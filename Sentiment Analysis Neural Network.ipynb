{
 "cells": [
  {
   "cell_type": "markdown",
   "id": "e1b39f3a",
   "metadata": {
    "papermill": {
     "duration": 0.018062,
     "end_time": "2024-01-27T01:29:08.326269",
     "exception": false,
     "start_time": "2024-01-27T01:29:08.308207",
     "status": "completed"
    },
    "tags": []
   },
   "source": [
    "# Sentiment Analysis Neural Network: Domain Adaptation from Snappfood to Digikala"
   ]
  },
  {
   "cell_type": "markdown",
   "id": "8fe5870e",
   "metadata": {
    "papermill": {
     "duration": 0.01725,
     "end_time": "2024-01-27T01:29:08.433604",
     "exception": false,
     "start_time": "2024-01-27T01:29:08.416354",
     "status": "completed"
    },
    "tags": []
   },
   "source": [
    "<div style=\"text-align:justify\">Hopefully, the course has been insightful for you till now. This notebook serves as a template for the project which involves training a sentiment analyzer neural network using the comments of a Persian website and fine-tuning it using the comments of another.<br><br>\n",
    "The first website is Snappfood which is used by the people in Iran to order different kinds of food. The latter is Digikala, an online store for Iranians where people buy many things including smartphones, groceries, cars, and whatever you consider legal. Both websites provide users with ways to express their opinions about the products.<br><br>\n",
    "A domain shift may be revealed to some degree when switching from Snappfood comments to the ones extracted from Digikala. This will be one of the challenges you will be faced with. So, beware of it!</div>"
   ]
  },
  {
   "cell_type": "markdown",
   "id": "e2d35a57",
   "metadata": {
    "papermill": {
     "duration": 0.018144,
     "end_time": "2024-01-27T01:29:08.469369",
     "exception": false,
     "start_time": "2024-01-27T01:29:08.451225",
     "status": "completed"
    },
    "tags": []
   },
   "source": [
    "# P1: Exploring the Datasets "
   ]
  },
  {
   "cell_type": "markdown",
   "id": "b39c538f",
   "metadata": {
    "papermill": {
     "duration": 0.01731,
     "end_time": "2024-01-27T01:29:08.504303",
     "exception": false,
     "start_time": "2024-01-27T01:29:08.486993",
     "status": "completed"
    },
    "tags": []
   },
   "source": [
    "Both of the datasets are added to the notebook. In this part, we want to explore their contents. "
   ]
  },
  {
   "cell_type": "markdown",
   "id": "f0478847",
   "metadata": {
    "papermill": {
     "duration": 0.017312,
     "end_time": "2024-01-27T01:29:08.539227",
     "exception": false,
     "start_time": "2024-01-27T01:29:08.521915",
     "status": "completed"
    },
    "tags": []
   },
   "source": [
    "Load both of the datasets "
   ]
  },
  {
   "cell_type": "code",
   "execution_count": 1,
   "id": "09968e97",
   "metadata": {
    "execution": {
     "iopub.execute_input": "2024-01-27T01:29:08.578121Z",
     "iopub.status.busy": "2024-01-27T01:29:08.577321Z",
     "iopub.status.idle": "2024-01-27T01:29:09.505241Z",
     "shell.execute_reply": "2024-01-27T01:29:09.503962Z"
    },
    "papermill": {
     "duration": 0.951101,
     "end_time": "2024-01-27T01:29:09.508414",
     "exception": false,
     "start_time": "2024-01-27T01:29:08.557313",
     "status": "completed"
    },
    "tags": []
   },
   "outputs": [],
   "source": [
    "import numpy as np \n",
    "import pandas as pd \n",
    "from matplotlib import pyplot as plt"
   ]
  },
  {
   "cell_type": "code",
   "execution_count": 2,
   "id": "d7d7c640",
   "metadata": {
    "execution": {
     "iopub.execute_input": "2024-01-27T01:29:09.547151Z",
     "iopub.status.busy": "2024-01-27T01:29:09.546606Z",
     "iopub.status.idle": "2024-01-27T01:29:09.812260Z",
     "shell.execute_reply": "2024-01-27T01:29:09.810780Z"
    },
    "papermill": {
     "duration": 0.288461,
     "end_time": "2024-01-27T01:29:09.814860",
     "exception": false,
     "start_time": "2024-01-27T01:29:09.526399",
     "status": "completed"
    },
    "tags": []
   },
   "outputs": [
    {
     "name": "stdout",
     "output_type": "stream",
     "text": [
      "['\\tطعم ساندویچ فیله مرغ کبابی با ساندویچی قبلا از شعبه\\u200cی بلوار قیطریه گرفته بودم خیلی فرق داشت', 'خیلی از طعمش راضی نبودم. سالاد سزار هم به نسبت سایر رستوران\\u200cها کوچک بود.\\tSAD\\t1']\n",
      "70003\n"
     ]
    }
   ],
   "source": [
    "import csv\n",
    "\n",
    "with open('/kaggle/input/snappfood-persian-sentiment-analysis/Snappfood - Sentiment Analysis.csv', 'r', encoding='utf-8') as file:\n",
    "    reader = csv.reader(file)\n",
    "    count = 0\n",
    "    for row in reader:\n",
    "        count += 1\n",
    "        if count == 501:\n",
    "            print(row)\n",
    "    print(count)"
   ]
  },
  {
   "cell_type": "code",
   "execution_count": 3,
   "id": "6dafc0d9",
   "metadata": {
    "execution": {
     "iopub.execute_input": "2024-01-27T01:29:09.853843Z",
     "iopub.status.busy": "2024-01-27T01:29:09.853020Z",
     "iopub.status.idle": "2024-01-27T01:29:10.269124Z",
     "shell.execute_reply": "2024-01-27T01:29:10.268053Z"
    },
    "papermill": {
     "duration": 0.438902,
     "end_time": "2024-01-27T01:29:10.271857",
     "exception": false,
     "start_time": "2024-01-27T01:29:09.832955",
     "status": "completed"
    },
    "tags": []
   },
   "outputs": [],
   "source": [
    "df_snappfood = pd.read_csv('/kaggle/input/snappfood-persian-sentiment-analysis/Snappfood - Sentiment Analysis.csv', delimiter='\\t')\n",
    "\n",
    "df_digikala = pd.read_csv('/kaggle/input/digikala-comments-persian-sentiment-analysis/data.csv')"
   ]
  },
  {
   "cell_type": "code",
   "execution_count": 4,
   "id": "c36ed88a",
   "metadata": {
    "execution": {
     "iopub.execute_input": "2024-01-27T01:29:10.309932Z",
     "iopub.status.busy": "2024-01-27T01:29:10.309196Z",
     "iopub.status.idle": "2024-01-27T01:29:10.332782Z",
     "shell.execute_reply": "2024-01-27T01:29:10.331584Z"
    },
    "papermill": {
     "duration": 0.045848,
     "end_time": "2024-01-27T01:29:10.335692",
     "exception": false,
     "start_time": "2024-01-27T01:29:10.289844",
     "status": "completed"
    },
    "tags": []
   },
   "outputs": [
    {
     "data": {
      "text/html": [
       "<div>\n",
       "<style scoped>\n",
       "    .dataframe tbody tr th:only-of-type {\n",
       "        vertical-align: middle;\n",
       "    }\n",
       "\n",
       "    .dataframe tbody tr th {\n",
       "        vertical-align: top;\n",
       "    }\n",
       "\n",
       "    .dataframe thead th {\n",
       "        text-align: right;\n",
       "    }\n",
       "</style>\n",
       "<table border=\"1\" class=\"dataframe\">\n",
       "  <thead>\n",
       "    <tr style=\"text-align: right;\">\n",
       "      <th></th>\n",
       "      <th>Unnamed: 0</th>\n",
       "      <th>comment</th>\n",
       "      <th>label</th>\n",
       "      <th>label_id</th>\n",
       "    </tr>\n",
       "  </thead>\n",
       "  <tbody>\n",
       "    <tr>\n",
       "      <th>0</th>\n",
       "      <td>NaN</td>\n",
       "      <td>واقعا حیف وقت که بنویسم سرویس دهیتون شده افتضاح</td>\n",
       "      <td>SAD</td>\n",
       "      <td>1.0</td>\n",
       "    </tr>\n",
       "    <tr>\n",
       "      <th>1</th>\n",
       "      <td>NaN</td>\n",
       "      <td>قرار بود ۱ ساعته برسه ولی نیم ساعت زودتر از مو...</td>\n",
       "      <td>HAPPY</td>\n",
       "      <td>0.0</td>\n",
       "    </tr>\n",
       "    <tr>\n",
       "      <th>2</th>\n",
       "      <td>NaN</td>\n",
       "      <td>قیمت این مدل اصلا با کیفیتش سازگاری نداره، فقط...</td>\n",
       "      <td>SAD</td>\n",
       "      <td>1.0</td>\n",
       "    </tr>\n",
       "    <tr>\n",
       "      <th>3</th>\n",
       "      <td>NaN</td>\n",
       "      <td>عالللی بود همه چه درست و به اندازه و کیفیت خوب...</td>\n",
       "      <td>HAPPY</td>\n",
       "      <td>0.0</td>\n",
       "    </tr>\n",
       "    <tr>\n",
       "      <th>4</th>\n",
       "      <td>NaN</td>\n",
       "      <td>شیرینی وانیلی فقط یک مدل بود.</td>\n",
       "      <td>HAPPY</td>\n",
       "      <td>0.0</td>\n",
       "    </tr>\n",
       "  </tbody>\n",
       "</table>\n",
       "</div>"
      ],
      "text/plain": [
       "  Unnamed: 0                                            comment  label  \\\n",
       "0        NaN    واقعا حیف وقت که بنویسم سرویس دهیتون شده افتضاح    SAD   \n",
       "1        NaN  قرار بود ۱ ساعته برسه ولی نیم ساعت زودتر از مو...  HAPPY   \n",
       "2        NaN  قیمت این مدل اصلا با کیفیتش سازگاری نداره، فقط...    SAD   \n",
       "3        NaN  عالللی بود همه چه درست و به اندازه و کیفیت خوب...  HAPPY   \n",
       "4        NaN                      شیرینی وانیلی فقط یک مدل بود.  HAPPY   \n",
       "\n",
       "   label_id  \n",
       "0       1.0  \n",
       "1       0.0  \n",
       "2       1.0  \n",
       "3       0.0  \n",
       "4       0.0  "
      ]
     },
     "execution_count": 4,
     "metadata": {},
     "output_type": "execute_result"
    }
   ],
   "source": [
    "df_snappfood.head()"
   ]
  },
  {
   "cell_type": "code",
   "execution_count": 5,
   "id": "86784503",
   "metadata": {
    "execution": {
     "iopub.execute_input": "2024-01-27T01:29:10.439066Z",
     "iopub.status.busy": "2024-01-27T01:29:10.438657Z",
     "iopub.status.idle": "2024-01-27T01:29:10.449894Z",
     "shell.execute_reply": "2024-01-27T01:29:10.448769Z"
    },
    "papermill": {
     "duration": 0.033766,
     "end_time": "2024-01-27T01:29:10.452420",
     "exception": false,
     "start_time": "2024-01-27T01:29:10.418654",
     "status": "completed"
    },
    "tags": []
   },
   "outputs": [
    {
     "data": {
      "text/html": [
       "<div>\n",
       "<style scoped>\n",
       "    .dataframe tbody tr th:only-of-type {\n",
       "        vertical-align: middle;\n",
       "    }\n",
       "\n",
       "    .dataframe tbody tr th {\n",
       "        vertical-align: top;\n",
       "    }\n",
       "\n",
       "    .dataframe thead th {\n",
       "        text-align: right;\n",
       "    }\n",
       "</style>\n",
       "<table border=\"1\" class=\"dataframe\">\n",
       "  <thead>\n",
       "    <tr style=\"text-align: right;\">\n",
       "      <th></th>\n",
       "      <th>Text</th>\n",
       "      <th>Score</th>\n",
       "      <th>Suggestion</th>\n",
       "    </tr>\n",
       "  </thead>\n",
       "  <tbody>\n",
       "    <tr>\n",
       "      <th>0</th>\n",
       "      <td>این اولین تجربه من برای خرید ایفون هست   امروز...</td>\n",
       "      <td>100</td>\n",
       "      <td>1</td>\n",
       "    </tr>\n",
       "    <tr>\n",
       "      <th>1</th>\n",
       "      <td>خرید این محصول رو توصیه میکنم</td>\n",
       "      <td>84</td>\n",
       "      <td>1</td>\n",
       "    </tr>\n",
       "    <tr>\n",
       "      <th>2</th>\n",
       "      <td>1 ساله این گوشی رو دارم   هیچ نقطه ضعفی ازش ند...</td>\n",
       "      <td>60</td>\n",
       "      <td>1</td>\n",
       "    </tr>\n",
       "    <tr>\n",
       "      <th>3</th>\n",
       "      <td>سلام خدمت دوستان این گوشی از همه نظر عالی  کیف...</td>\n",
       "      <td>96</td>\n",
       "      <td>1</td>\n",
       "    </tr>\n",
       "    <tr>\n",
       "      <th>4</th>\n",
       "      <td>سلام دوستانی که نگران شکستن صفحه نمایش هستند ا...</td>\n",
       "      <td>92</td>\n",
       "      <td>1</td>\n",
       "    </tr>\n",
       "  </tbody>\n",
       "</table>\n",
       "</div>"
      ],
      "text/plain": [
       "                                                Text  Score  Suggestion\n",
       "0  این اولین تجربه من برای خرید ایفون هست   امروز...    100           1\n",
       "1                     خرید این محصول رو توصیه میکنم      84           1\n",
       "2  1 ساله این گوشی رو دارم   هیچ نقطه ضعفی ازش ند...     60           1\n",
       "3  سلام خدمت دوستان این گوشی از همه نظر عالی  کیف...     96           1\n",
       "4  سلام دوستانی که نگران شکستن صفحه نمایش هستند ا...     92           1"
      ]
     },
     "execution_count": 5,
     "metadata": {},
     "output_type": "execute_result"
    }
   ],
   "source": [
    "df_digikala.head()"
   ]
  },
  {
   "cell_type": "markdown",
   "id": "147465e0",
   "metadata": {
    "papermill": {
     "duration": 0.019029,
     "end_time": "2024-01-27T01:29:10.490024",
     "exception": false,
     "start_time": "2024-01-27T01:29:10.470995",
     "status": "completed"
    },
    "tags": []
   },
   "source": [
    "Count the number of comments each dataset contains "
   ]
  },
  {
   "cell_type": "code",
   "execution_count": 6,
   "id": "7a380cca",
   "metadata": {
    "execution": {
     "iopub.execute_input": "2024-01-27T01:29:10.529307Z",
     "iopub.status.busy": "2024-01-27T01:29:10.528877Z",
     "iopub.status.idle": "2024-01-27T01:29:10.534983Z",
     "shell.execute_reply": "2024-01-27T01:29:10.533836Z"
    },
    "papermill": {
     "duration": 0.029458,
     "end_time": "2024-01-27T01:29:10.538299",
     "exception": false,
     "start_time": "2024-01-27T01:29:10.508841",
     "status": "completed"
    },
    "tags": []
   },
   "outputs": [
    {
     "name": "stdout",
     "output_type": "stream",
     "text": [
      "Number of comments taht SnappFood database contains:  70000\n",
      "Number of comments that DigiKala database contains:  3261\n"
     ]
    }
   ],
   "source": [
    "print('Number of comments taht SnappFood database contains: ', len(df_snappfood))\n",
    "print('Number of comments that DigiKala database contains: ', len(df_digikala))"
   ]
  },
  {
   "cell_type": "markdown",
   "id": "800a0296",
   "metadata": {
    "papermill": {
     "duration": 0.019084,
     "end_time": "2024-01-27T01:29:10.576512",
     "exception": false,
     "start_time": "2024-01-27T01:29:10.557428",
     "status": "completed"
    },
    "tags": []
   },
   "source": [
    "Represent the distribution of comments in the Snappfood dataset in terms of being negative or positive"
   ]
  },
  {
   "cell_type": "code",
   "execution_count": 7,
   "id": "3bae1aac",
   "metadata": {
    "execution": {
     "iopub.execute_input": "2024-01-27T01:29:10.616632Z",
     "iopub.status.busy": "2024-01-27T01:29:10.615648Z",
     "iopub.status.idle": "2024-01-27T01:29:26.862677Z",
     "shell.execute_reply": "2024-01-27T01:29:26.861070Z"
    },
    "papermill": {
     "duration": 16.270428,
     "end_time": "2024-01-27T01:29:26.865776",
     "exception": false,
     "start_time": "2024-01-27T01:29:10.595348",
     "status": "completed"
    },
    "tags": []
   },
   "outputs": [
    {
     "name": "stdout",
     "output_type": "stream",
     "text": [
      "Requirement already satisfied: seaborn in /opt/conda/lib/python3.10/site-packages (0.12.2)\r\n",
      "Requirement already satisfied: numpy!=1.24.0,>=1.17 in /opt/conda/lib/python3.10/site-packages (from seaborn) (1.24.3)\r\n",
      "Requirement already satisfied: pandas>=0.25 in /opt/conda/lib/python3.10/site-packages (from seaborn) (2.0.3)\r\n",
      "Requirement already satisfied: matplotlib!=3.6.1,>=3.1 in /opt/conda/lib/python3.10/site-packages (from seaborn) (3.7.4)\r\n",
      "Requirement already satisfied: contourpy>=1.0.1 in /opt/conda/lib/python3.10/site-packages (from matplotlib!=3.6.1,>=3.1->seaborn) (1.1.0)\r\n",
      "Requirement already satisfied: cycler>=0.10 in /opt/conda/lib/python3.10/site-packages (from matplotlib!=3.6.1,>=3.1->seaborn) (0.11.0)\r\n",
      "Requirement already satisfied: fonttools>=4.22.0 in /opt/conda/lib/python3.10/site-packages (from matplotlib!=3.6.1,>=3.1->seaborn) (4.42.1)\r\n",
      "Requirement already satisfied: kiwisolver>=1.0.1 in /opt/conda/lib/python3.10/site-packages (from matplotlib!=3.6.1,>=3.1->seaborn) (1.4.4)\r\n",
      "Requirement already satisfied: packaging>=20.0 in /opt/conda/lib/python3.10/site-packages (from matplotlib!=3.6.1,>=3.1->seaborn) (21.3)\r\n",
      "Requirement already satisfied: pillow>=6.2.0 in /opt/conda/lib/python3.10/site-packages (from matplotlib!=3.6.1,>=3.1->seaborn) (10.1.0)\r\n",
      "Requirement already satisfied: pyparsing>=2.3.1 in /opt/conda/lib/python3.10/site-packages (from matplotlib!=3.6.1,>=3.1->seaborn) (3.0.9)\r\n",
      "Requirement already satisfied: python-dateutil>=2.7 in /opt/conda/lib/python3.10/site-packages (from matplotlib!=3.6.1,>=3.1->seaborn) (2.8.2)\r\n",
      "Requirement already satisfied: pytz>=2020.1 in /opt/conda/lib/python3.10/site-packages (from pandas>=0.25->seaborn) (2023.3)\r\n",
      "Requirement already satisfied: tzdata>=2022.1 in /opt/conda/lib/python3.10/site-packages (from pandas>=0.25->seaborn) (2023.3)\r\n",
      "Requirement already satisfied: six>=1.5 in /opt/conda/lib/python3.10/site-packages (from python-dateutil>=2.7->matplotlib!=3.6.1,>=3.1->seaborn) (1.16.0)\r\n",
      "Note: you may need to restart the kernel to use updated packages.\n"
     ]
    }
   ],
   "source": [
    "pip install seaborn"
   ]
  },
  {
   "cell_type": "code",
   "execution_count": 8,
   "id": "734111de",
   "metadata": {
    "execution": {
     "iopub.execute_input": "2024-01-27T01:29:26.907271Z",
     "iopub.status.busy": "2024-01-27T01:29:26.906845Z",
     "iopub.status.idle": "2024-01-27T01:29:28.762520Z",
     "shell.execute_reply": "2024-01-27T01:29:28.761354Z"
    },
    "papermill": {
     "duration": 1.879997,
     "end_time": "2024-01-27T01:29:28.765103",
     "exception": false,
     "start_time": "2024-01-27T01:29:26.885106",
     "status": "completed"
    },
    "tags": []
   },
   "outputs": [
    {
     "data": {
      "image/png": "[encoded data removed]",
      "text/plain": [
       "<Figure size 640x480 with 1 Axes>"
      ]
     },
     "metadata": {},
     "output_type": "display_data"
    }
   ],
   "source": [
    "import seaborn as sns\n",
    "import matplotlib.pyplot as plt\n",
    "\n",
    "#df_snappfood['label'] = df_snappfood['label'].replace({'SAD': 1, 'HAAPY': -1})\n",
    "\n",
    "sns.countplot(x='label_id', data=df_snappfood)\n",
    "\n",
    "plt.xlabel('Sentiment')\n",
    "plt.ylabel('Count')\n",
    "plt.title('Distribution of Sentiments in the Dataset')\n",
    "\n",
    "plt.show()\n"
   ]
  },
  {
   "cell_type": "markdown",
   "id": "b51891cb",
   "metadata": {
    "papermill": {
     "duration": 0.021417,
     "end_time": "2024-01-27T01:29:28.806234",
     "exception": false,
     "start_time": "2024-01-27T01:29:28.784817",
     "status": "completed"
    },
    "tags": []
   },
   "source": [
    "Plot the logarithm of the frequency of words as a function of the logarithm of their rank to demonstrate the Zipf's law. <br>"
   ]
  },
  {
   "cell_type": "code",
   "execution_count": 9,
   "id": "ad591ab1",
   "metadata": {
    "execution": {
     "iopub.execute_input": "2024-01-27T01:29:28.849151Z",
     "iopub.status.busy": "2024-01-27T01:29:28.848702Z",
     "iopub.status.idle": "2024-01-27T01:29:43.524208Z",
     "shell.execute_reply": "2024-01-27T01:29:43.522838Z"
    },
    "papermill": {
     "duration": 14.700119,
     "end_time": "2024-01-27T01:29:43.526921",
     "exception": false,
     "start_time": "2024-01-27T01:29:28.826802",
     "status": "completed"
    },
    "tags": []
   },
   "outputs": [
    {
     "name": "stdout",
     "output_type": "stream",
     "text": [
      "Requirement already satisfied: nltk in /opt/conda/lib/python3.10/site-packages (3.2.4)\r\n",
      "Requirement already satisfied: six in /opt/conda/lib/python3.10/site-packages (from nltk) (1.16.0)\r\n",
      "Note: you may need to restart the kernel to use updated packages.\n"
     ]
    }
   ],
   "source": [
    "pip install nltk"
   ]
  },
  {
   "cell_type": "code",
   "execution_count": 10,
   "id": "8aec3d65",
   "metadata": {
    "execution": {
     "iopub.execute_input": "2024-01-27T01:29:43.569767Z",
     "iopub.status.busy": "2024-01-27T01:29:43.569338Z",
     "iopub.status.idle": "2024-01-27T01:30:07.469641Z",
     "shell.execute_reply": "2024-01-27T01:30:07.468387Z"
    },
    "papermill": {
     "duration": 23.92497,
     "end_time": "2024-01-27T01:30:07.472377",
     "exception": false,
     "start_time": "2024-01-27T01:29:43.547407",
     "status": "completed"
    },
    "tags": []
   },
   "outputs": [
    {
     "data": {
      "image/png": "[encoded data removed]",
      "text/plain": [
       "<Figure size 1000x600 with 1 Axes>"
      ]
     },
     "metadata": {},
     "output_type": "display_data"
    }
   ],
   "source": [
    "import nltk\n",
    "from nltk.tokenize import word_tokenize\n",
    "from collections import Counter\n",
    "\n",
    "\n",
    "comments = df_snappfood['comment'].astype(str).apply(word_tokenize)\n",
    "\n",
    "all_words = [word for sublist in comments for word in sublist]\n",
    "\n",
    "word_freq = Counter(all_words)\n",
    "\n",
    "sorted_words = sorted(word_freq.items(), key=lambda x: x[1], reverse=True)\n",
    "\n",
    "ranks = np.arange(1, len(sorted_words) + 1)\n",
    "frequencies = [word[1] for word in sorted_words]\n",
    "\n",
    "plt.figure(figsize=(10, 6))\n",
    "plt.loglog(ranks, frequencies, marker='.')\n",
    "plt.title(\"Zipf's Law: Log-Log Plot of Word Frequencies\")\n",
    "plt.xlabel('Log Rank')\n",
    "plt.ylabel('Log Frequency')\n",
    "plt.show()"
   ]
  },
  {
   "cell_type": "markdown",
   "id": "8faab492",
   "metadata": {
    "papermill": {
     "duration": 0.020404,
     "end_time": "2024-01-27T01:30:07.513716",
     "exception": false,
     "start_time": "2024-01-27T01:30:07.493312",
     "status": "completed"
    },
    "tags": []
   },
   "source": [
    "Add a new column to the Digikala dataset indicating whether the comment was positive, negative, or neutral. This will be needed later for classification. <br>\n",
    "Note: This can be done in many ways. You should the appropriate method. "
   ]
  },
  {
   "cell_type": "code",
   "execution_count": 11,
   "id": "ed4f70b0",
   "metadata": {
    "execution": {
     "iopub.execute_input": "2024-01-27T01:30:07.557494Z",
     "iopub.status.busy": "2024-01-27T01:30:07.557029Z",
     "iopub.status.idle": "2024-01-27T01:30:10.467845Z",
     "shell.execute_reply": "2024-01-27T01:30:10.466599Z"
    },
    "papermill": {
     "duration": 2.936288,
     "end_time": "2024-01-27T01:30:10.470691",
     "exception": false,
     "start_time": "2024-01-27T01:30:07.534403",
     "status": "completed"
    },
    "tags": []
   },
   "outputs": [],
   "source": [
    "from sklearn.feature_extraction.text import TfidfVectorizer\n",
    "from sklearn.naive_bayes import MultinomialNB\n",
    "from sklearn.metrics import classification_report\n",
    "\n",
    "df_snappfood.fillna({'label': 'SAD'}, inplace=True)\n",
    "df_snappfood.fillna({'label_id': 0}, inplace=True)\n",
    "\n",
    "# Step 1: Feature Extraction\n",
    "vectorizer = TfidfVectorizer(max_features=5000)\n",
    "X_train = vectorizer.fit_transform(df_snappfood['comment'])\n",
    "y_train = df_snappfood['label']\n",
    "\n",
    "# Step 2: Train a Sentiment Analysis Model\n",
    "model = MultinomialNB()\n",
    "model.fit(X_train, y_train)\n",
    "\n",
    "# Step 3: Predict Sentiments for df_digikala\n",
    "X_test = vectorizer.transform(df_digikala['Text'])\n",
    "df_digikala['predicted_label'] = model.predict(X_test)\n",
    "\n",
    "df_digikala.loc[(df_digikala['Suggestion'].between(2,3)) & (df_digikala['Score'].between(70, 90)), 'predicted_label2'] = 'NEUTRAL'"
   ]
  },
  {
   "cell_type": "code",
   "execution_count": 12,
   "id": "903b6299",
   "metadata": {
    "execution": {
     "iopub.execute_input": "2024-01-27T01:30:10.514059Z",
     "iopub.status.busy": "2024-01-27T01:30:10.513609Z",
     "iopub.status.idle": "2024-01-27T01:30:10.536867Z",
     "shell.execute_reply": "2024-01-27T01:30:10.535981Z"
    },
    "papermill": {
     "duration": 0.051747,
     "end_time": "2024-01-27T01:30:10.543221",
     "exception": false,
     "start_time": "2024-01-27T01:30:10.491474",
     "status": "completed"
    },
    "tags": []
   },
   "outputs": [
    {
     "data": {
      "text/html": [
       "<div>\n",
       "<style scoped>\n",
       "    .dataframe tbody tr th:only-of-type {\n",
       "        vertical-align: middle;\n",
       "    }\n",
       "\n",
       "    .dataframe tbody tr th {\n",
       "        vertical-align: top;\n",
       "    }\n",
       "\n",
       "    .dataframe thead th {\n",
       "        text-align: right;\n",
       "    }\n",
       "</style>\n",
       "<table border=\"1\" class=\"dataframe\">\n",
       "  <thead>\n",
       "    <tr style=\"text-align: right;\">\n",
       "      <th></th>\n",
       "      <th>Text</th>\n",
       "      <th>Score</th>\n",
       "      <th>Suggestion</th>\n",
       "      <th>predicted_label</th>\n",
       "      <th>predicted_label2</th>\n",
       "    </tr>\n",
       "  </thead>\n",
       "  <tbody>\n",
       "    <tr>\n",
       "      <th>0</th>\n",
       "      <td>این اولین تجربه من برای خرید ایفون هست   امروز ب دستم رسیده   به اسم طلایی هست ولی دراصل رزگلده  خیلی هم خوش رنگ هست</td>\n",
       "      <td>100</td>\n",
       "      <td>1</td>\n",
       "      <td>SAD</td>\n",
       "      <td>NaN</td>\n",
       "    </tr>\n",
       "    <tr>\n",
       "      <th>1</th>\n",
       "      <td>خرید این محصول رو توصیه میکنم</td>\n",
       "      <td>84</td>\n",
       "      <td>1</td>\n",
       "      <td>SAD</td>\n",
       "      <td>NaN</td>\n",
       "    </tr>\n",
       "    <tr>\n",
       "      <th>2</th>\n",
       "      <td>1 ساله این گوشی رو دارم   هیچ نقطه ضعفی ازش ندیدم</td>\n",
       "      <td>60</td>\n",
       "      <td>1</td>\n",
       "      <td>SAD</td>\n",
       "      <td>NaN</td>\n",
       "    </tr>\n",
       "    <tr>\n",
       "      <th>3</th>\n",
       "      <td>سلام خدمت دوستان این گوشی از همه نظر عالی  کیفیت ساخت سرعت اجرا کیفیت صدا و تصویر  از نظر حافظه هم فقط 5 گیگ در دسترس شما قرار میگیره</td>\n",
       "      <td>96</td>\n",
       "      <td>1</td>\n",
       "      <td>HAPPY</td>\n",
       "      <td>NaN</td>\n",
       "    </tr>\n",
       "    <tr>\n",
       "      <th>4</th>\n",
       "      <td>سلام دوستانی که نگران شکستن صفحه نمایش هستند این رو بدونند که صفحه با گوریلا گلس 5 محافظت میشه و با خدمات ویژه سامسونگ اگر تحت هر شرایط صفحه گوشی دچار ایراد بشه با 200 هزار تومان صفحه رو براتون تعویض میکنند و از لحاظ امکانات هم گوشی عالیه و من از خرید خودم راضیم</td>\n",
       "      <td>92</td>\n",
       "      <td>1</td>\n",
       "      <td>HAPPY</td>\n",
       "      <td>NaN</td>\n",
       "    </tr>\n",
       "    <tr>\n",
       "      <th>5</th>\n",
       "      <td>من پکیج کاملش روخریدم   ازهرنظرعالیه   هیچ نقدوایرادی بهش وارد نیست   فقط یه گوشی لوکسه باید خیلی مواظب ضربه خوردن وشکستنش باشین</td>\n",
       "      <td>60</td>\n",
       "      <td>1</td>\n",
       "      <td>SAD</td>\n",
       "      <td>NaN</td>\n",
       "    </tr>\n",
       "    <tr>\n",
       "      <th>6</th>\n",
       "      <td>اول از همه خوشحالم که بالاخره نسخه های 128 گیگابایتی برای فروش قرار گرفت چون همیشه من با حافظه گوشی های اندرویدی مشکل داشتم  گوشی قبلی من s7 بود و بعد از 2 سال استفاده که بسیار هم راضی بودم به دلیل تغییرات مثبتی که در گوشی های سامسونگ ایجاد شد تصمیم گرفتم گوشی رو عوض کنم این گوشی واقعا زیباست و طراحی منحصر به فردی داره  زمانی که گوشی رو در دست میگیرید بسیار خودش دست هست و حس خیلی خوبی داره تنها دلیلی که نسخه پلاس رو انتخاب نکردم بزرگی بیش از حد و وزن گوشی بود ولی این نسخه از نظر اندازه فوق العادست کیفیت و بلندی صدای  اسپیکر  ها عالی هست  زمانی که با گوشی قبلی خودم تست کردم واقعا تفاوت زیادی حس میشد  همچنین با گوشی HTC U11 هم مقایسه کردم و باز هم بلندی صدای اس 9 بیشتر بود اما از نظر کیفیت شاید کمی u11 بهتر بود  نگرانی من جای سنسور اثر انگشت بود چون با اس8 که کار کرده بودم اصلا جای مناسبی نداشت ولی این مشکل با تغییر جای سنسور بنظرم کاملا حل شده و سرعت سنسور هم عالی هست و با وجود Intelligent scan که ترکیب سنسور عنبیه و تشخیص چهره هست خیلی نیازی به اثر انگشت احساس نمیشه چون حتی توی تاریکی مطلق هم به سرعت گوشی از این طریق باز میشه اما یک ایراد امنیتی که دیدم این بود که اگر چشمای من بسته باشه باز هم با روش intelligent scan گوشی سریعا باز میشه ولی توی آیفون X ظاهرا با چشمان بسته گوشی باز نمیشه و این از نظر امنیت خیلی بهتره دوربین سلفی خیلی بهتر از گوشی قبلی من هست ولی تفاوت زیادی توی دوربین اصلی با گوشی قبلی خودم ندیدم درکل دوربین اصلی کیفیت خوبی داره و به نسبت نسل های قبل توی زوم آخر نویز کمتری دیده میشه یکی از قابلیت هایی که روی دوربین اس 9 پلاس وجود داره به دلیل دو دوربین بودن گوشی میتونه عکس های بوکه بگیره ولی این گوشی هم چنین قابلیتی داره به اسم selective focus که اگر جسم در فاصله نیم متری باشه دقیقا همون افکت بوکه رو میتونه اعمال کنه و از نظر عملکرد هم خوب بود و در نهایت کیفیت صفحه هم که فوق العادست و بنظرم بهترین هست  و چند مورد هم از نقاط ضعف بگم  باتری   باتری متاسفانه زیاد رضایت بخش نیست و بنظرم به زور میتونه گوشی رو از صبح ساعت 7 8 تا 12 شب برسونه البته استفاده من زیاد هست و همیشه اینترنت هم روشن هست مخصوصا 4G ولی باز انتظار بیشتری میرفت که ظاهرا نسخه پلاس توی این مورد بهتره  مورد بعد AR ایموجی هست که واقعا از نظر عملکرد ضعیف هست و کلا فقط یکبار تستش کردم و کلا ناامید شدم  و دوستان هم تست کردن و اصلا نتیجه جالبی نداشت و همرو  تقریبا یکسان نشون میده نمیدونم چرا سامسونگ این همه روی قابلیت AR ایموجی تبلیغ کرد وقتی به بلوغ نرسیده   و ای کاش مثل نسخه پلاس 6 گیگابایت رم داشت و نمیدونم چرا سامسونگ خواست مثل اپل بین نسخه معمولی و پلاس فرق بزاره   همش تقصیر اپل هست اینارو باب میکنه  D   چون تقریبا 14 15 تا اپ که باز باشه دیگه قبلی هارو میبنده و شروع به ریلود کردن برنامه ها میکنه اگر بازی سنگین اجرا بشه که وضعیت بدتر میشه و با 5 6 تا اپ باز به مشکل بر میخوره و همرو موقع اجرای دوباره ریلود میکنه  در نهایت از خریدم راضی هستم ولی اگر رم 6 گیگابایتی و دوربین دوم نسخه پلاس رو داشت واقعا عالی میشد  چون اصلا نمیتونستم با نسخه پلاس از نظر اندازه کنار بیام و اگر روی قابلیت AR ایموجی بیشتر کار بشه و مثل آیفون X دوربین اسکن سه بعدی اضافه بشه قطعا قابلیت جالبی میشه</td>\n",
       "      <td>96</td>\n",
       "      <td>1</td>\n",
       "      <td>SAD</td>\n",
       "      <td>NaN</td>\n",
       "    </tr>\n",
       "    <tr>\n",
       "      <th>7</th>\n",
       "      <td>من دو ماهه خریدم واقعا راضیم  دوربینشم عالیه   بهترین گوشی در رنج قیمت خودشه</td>\n",
       "      <td>100</td>\n",
       "      <td>1</td>\n",
       "      <td>HAPPY</td>\n",
       "      <td>NaN</td>\n",
       "    </tr>\n",
       "    <tr>\n",
       "      <th>8</th>\n",
       "      <td>بنظر من گوشی خوب و مقرون به صرفه ای بود توی این دوسالی که داشتمش همه جور استفاده ای ازش کردم از بازی های نسبتا سنگین دیتا دار تا استفاده های معمولی صفحه نمایش فوق العاده که بنظرم تنها و بهترین نقطه ی قوتش که باعث شد بگیرمش همین بود چون لذت کار کردن باهاش رو خیلی بیشتر کرده بود و بنظرم عمر خودشو کرده و بیشتر از این انتظاری هم نداشتم ازش نسبت به هزینه ای که کردم البته اینم بگم چندباری از دستم زمین خورده ولی کیفیت مناسب و استحکام خوبی داشت و مشکلی براش پیش نیومد</td>\n",
       "      <td>100</td>\n",
       "      <td>1</td>\n",
       "      <td>HAPPY</td>\n",
       "      <td>NaN</td>\n",
       "    </tr>\n",
       "    <tr>\n",
       "      <th>9</th>\n",
       "      <td>از خریدم راضی ام و گوشی بینظیریه  منتهی یه ایرادی که داره با برنامه های ضبط مکالمات صدای طرف مقابل ضبط نمیشه همه برنامه ها رو امتحان کردم  در اینترنت و سایتهای خارجی که گشتم همه این مشکل داشتن  امیدوارم سامسونگ در آپدیت های بعدی این ایراد رو رفع کنه  بیکسبی ویژن هم در ایران کار نمیکنه برا ضبط ویدئو با تصویر آهسته اگه نور کافی نباشه کیفیتش خیلی خراب میشه ولی در نور بیرون خیلی عالی و با کیفیت ضبط میشه  فیلمبرداری در حالت عادی حتی در تاریکی خیلی خوبه</td>\n",
       "      <td>92</td>\n",
       "      <td>1</td>\n",
       "      <td>HAPPY</td>\n",
       "      <td>NaN</td>\n",
       "    </tr>\n",
       "    <tr>\n",
       "      <th>10</th>\n",
       "      <td>سلام بنده حدود یک سال پیش دو عدد از این گوشی خریدم که یکیش برای خودم بود و تا الان ازش راضی ام و با مشکل خاصی برخورد نکردم البته ظرفیت باتری کمه  حدود 6 ساعت  و همون اول تو ذوق میرنه که نسبت به قیمت موبایل  عالیه و مشکل بعدی نداشتن قابلیت اتصال به اینترنت 4g هستش که میتونید با خرید مدل پرو حلش کنید ولی برا من که ازش استفاده عمومی میکنم اشکالی نداره  تا یادم نرفته باید بگم که کیفیت دوربین در همین یکسال به سرعت افت کرد که الان نمیشه با یه دوربین 5 مگاپیکسل مقایسه ش کرد  از جمله نقاط قوتش هم میتونم به کیفیت مطلوب دوربین البته در ماه های اول خرید و سخت افزار  عالی برای کاربری عمومی و نهایتا تولید با استاندارد های جهانی اشاره کنم ولی با توجه به نقاط قوتش در کل خرید خوبی بود و از دیجی کالا به خاطر خدمات خوبش ممنونم ممنون دیجی جون  نظرتومهمه</td>\n",
       "      <td>72</td>\n",
       "      <td>1</td>\n",
       "      <td>HAPPY</td>\n",
       "      <td>NaN</td>\n",
       "    </tr>\n",
       "    <tr>\n",
       "      <th>11</th>\n",
       "      <td>همه چیز این گوشی عالیه بجز قیمت که البته بیشتر بخاطر گرون شدن دلاره گوشی گلکسی 8 دارم و تغییرات این گوشی جزئی و در حد یه ترغیب کوچیکِ مشتریان سامسونگ برای خرید مدل جدیده تغییراتی مثل جابجایی مثبت حسگر اثر انگشت  ارتقا  نرمافزاری برای گرفتن عکسای باکیفیت تر و جذاب تر   ساخت شکلک AR  و   یه بی سلیقگی هم که دیدم اینکه رنگ هدست  level pro  که هدیه خرید هست با رنگ گوشی  خریداری شده همخوانی نداره بهتر بود امکان تعیین رنگ وجود داشت و یا حداقل رنگ مشابه گوشی تحویل داده می شد</td>\n",
       "      <td>92</td>\n",
       "      <td>1</td>\n",
       "      <td>HAPPY</td>\n",
       "      <td>NaN</td>\n",
       "    </tr>\n",
       "    <tr>\n",
       "      <th>12</th>\n",
       "      <td>من و خانواده ام گوشی های متفاوتی رو داشتیم چه از نوع سامسونگ  مثلا note 3  و آیفون  مدلهای اخیر  ولی همگی به کرات و بارها در مقابل ضربه و افتادن از دست و اکثرا در حالت ایستاده و روی زمین سفت و حتی نا هموار  آسفالت  سنگ و سرامیک  بسیار مقاوم بودند و موردی یا شکستگی و خش زننده و قابل توجه هم برایشان حاصل نشدهاست در حالی که من اخیرا سامسونگ note 8  گرفتم  و در اثر افتادن از دست آنهم از ارتفاع 40 سانتیمتری از گوشه اش ترک ناجوری برداشته است و نشان از یا  مشکل طراحی  لبه های تیز و ضربه پذیر  یا عدم دوام صفحه آنست</td>\n",
       "      <td>52</td>\n",
       "      <td>1</td>\n",
       "      <td>SAD</td>\n",
       "      <td>NaN</td>\n",
       "    </tr>\n",
       "    <tr>\n",
       "      <th>13</th>\n",
       "      <td>در مجموع از خرید این گوشی راضی هستم  اگر کاربر حرفه ای قلمش باشین و به امکاناتش آشنا باشین  احتمالا حرف منو تأیید میکنین که خیلی کابردیه  ظاهر زیبایی داره و تو اجرا کم نمیاره  حسگر عنبیه سرعت خیلی خوبی داره  من با جای حسگر اثر انگشت مشکلی نداشتم و به سرعت بهش عادت کردم  دستیار صوتی بیکسبی با اسامی فارسی مشکل داره و کار کردن باهاش رو سخت میکنه  اما دستورات انگلیسی رو خیلی خوب اجرا میکنه  بزرگترین نقطه ضعفش باتریشه  اما نه به این معنا که ضعیف باشه  در مقابل عمر باتری آیفون و گوشیهای هوآوی کم میاره اما هنوز رضایتبخشه  امیدوارم عمرش به سرعت کاهش پیدا نکنه  کاش جای سیمکارت دوم با حافظه جانبی یکی نبود  در ضمن من این گوشی رو تو پیش فروش خرید کردم و یک روز زودتر از موعد برای تحویل به موقع با من هماهنگ کردن که به موقع هم به دستم رسید</td>\n",
       "      <td>84</td>\n",
       "      <td>1</td>\n",
       "      <td>HAPPY</td>\n",
       "      <td>NaN</td>\n",
       "    </tr>\n",
       "    <tr>\n",
       "      <th>14</th>\n",
       "      <td>تجربه استفاده از این گوشی جای هیچ حرف و حدیثی باقی نمیگداره</td>\n",
       "      <td>100</td>\n",
       "      <td>1</td>\n",
       "      <td>HAPPY</td>\n",
       "      <td>NaN</td>\n",
       "    </tr>\n",
       "    <tr>\n",
       "      <th>15</th>\n",
       "      <td>من نوت 8 رو از دیجی پیش خرید کردم خیلی خیلی راضیم گوشی خیلی خوب و زیباییه تو چند ساعت اول حس میکنید خیلی بزرگ و کشیدست که بعد اون چند ساعت کاملا براتون طبیعی میشه خوش دست هست ولی خیلی نمیشه باهاش یه دستی کار کرد جای سنسور اثر انگشت هم خیلی برای راست دستا که گوشی رو با دست چپ میگیرن و با دست راست لمس میکنن مناسب نیست اینا که گفتم تقریبا بدیاش بود به غیر از اینا تو همه چی عالیه</td>\n",
       "      <td>88</td>\n",
       "      <td>1</td>\n",
       "      <td>SAD</td>\n",
       "      <td>NaN</td>\n",
       "    </tr>\n",
       "    <tr>\n",
       "      <th>16</th>\n",
       "      <td>من این محصول رو پیش خرید کرده بودم  گوشی قبلیم هم نوت 5 بود  انصافا نوت 5 هیچی کم و کسری نداشت  در مورد این گوشی باید بگم صفحه نمایشش عالیه واقعا  روون کار می کنه  سریعه دورینش واقعا حرف نداره  امکاناتی که میده از جمله قلمش و برنامه های سلامتی عالیه   در سیستم عامل اندروید واقعا یکی از بهترین هاست رنگ مشکیش هم واقعا غوغا میکنه زیباست   اکثر همکارام متوجه شدند که گوشیم رو عوض کردم  من از اسکن چشم استفاده میکنم و کاربدیه بعضی جا ها نور زیاد که هست کار نمی کنه البیته من ساعت گیر 3 رو گرفتم و به عنوان دستگاه قابل اعتماد شناسوندم و راحت الکی قفل نمیشه  در ضمن می تونید به گزینه های قفل هوشمند رجوع کنید و ایتم ها خوبی داره مثل محل قابل اعتماد مثل خونتون که قفل نشه داخل خونتون  یک توصیه که به دوستان دارم همراه این گوشی ساعت گیر 3 و هدفون بیسیم یو پرو نیز بخرند و گوشیشون رو تو خیابون اینها دست نگیرند و تو کیف و یا لباسشون بزارند  من با استفاده از برنامه اسمارت سوییج کلیه اطلاعات گوشیم رو منتقل کردم حتی تم گوشی قبلیم حتی چیدمان ایکون ها و حتی پسورد های وایرلس خونه و شرکت  خیلی جالب بود عکس و شماره هاو اس ام اس و ها و اطلاهات تماس ها هم براحتی اب خوردن منتقل شدند  کل این پروسه نیم ساعت با کابل طول کشید  در کل من اعتقاد دارم گوشی باید پرچم دار باشه مخصوصا برای افرادی که همه کار و زندگیشون با گوشیه هنور دکس رو امتحان نکردم  هدیه ها هم فعلا بجز فیدیبو امتحان نکردم اما هدیه هاش کاربریه و کاملا ارزشمند  یک مورد هم بهتره بدوستان بگم اینکه فلش های OTG که برای یو اس بی های تایپ B بود الان با رابط کار نمی کنه و بایستی فلش OTG تایپ C بخریم که در دیجی کالا هم موجوده  من برای گوشیم از همون کاور ساده پشت گوشی در جعبه اولیه بود استفاده می کنم و روش گلس اینها ننداختم  اینطوری بیشتر حال می کنم</td>\n",
       "      <td>84</td>\n",
       "      <td>1</td>\n",
       "      <td>SAD</td>\n",
       "      <td>NaN</td>\n",
       "    </tr>\n",
       "    <tr>\n",
       "      <th>17</th>\n",
       "      <td>گوشیه فوق العاده ای هستش اصلا نمیشه براش عیب و ایرادی گرفت دیجی جووون بابت هدیه ها ممنون</td>\n",
       "      <td>100</td>\n",
       "      <td>1</td>\n",
       "      <td>HAPPY</td>\n",
       "      <td>NaN</td>\n",
       "    </tr>\n",
       "    <tr>\n",
       "      <th>18</th>\n",
       "      <td>کاملترین گوشی ای که در حال حاضر تو این رنج قیمت میشه خرید  من قصد داشتم صبر کنم برا آیفون x ولی نظرم عوض شد و اینو پیش خرید کردم   واقعا راضیم ازش بیشتر به خاطر قلم s pen خریدمش ولی بعد دو سه هفته کار کردن باهاش هیچ نقطه ضعف و مشکل حتی جزئی ندیدم و فقط اسپیکرهاش اگه استریو بود کیفیت صدا با چیزی که الان هست خیلی فرق میکرد گرچه الانم خوبه و راضی کننده هستش  به راحتی میتونه از پس هر کار سنگینی بر بیاد یعنی 6 گیگ رم فقط روی کاغذ نیست اگه باهاش کار کنین کاملا متوجه تفاوتش با بقیه گوشی های هم رده  غیر از آیفون ها  در بحث سرعت میشین از دیجی کالا بابت تحویل زودتر از موعدش ممنونم</td>\n",
       "      <td>96</td>\n",
       "      <td>1</td>\n",
       "      <td>SAD</td>\n",
       "      <td>NaN</td>\n",
       "    </tr>\n",
       "    <tr>\n",
       "      <th>19</th>\n",
       "      <td>باسلام من این گوشیرو باگارانتی مایکروتل پیش خرید کردم چند روزه رسیده دستم تقریباً همه چیش خوبه بجز قلمش وقتی میخوای چیزی بنویسی باید حتماً فشاربدی رو قلم وگرنه حرفها رو بریده بریده مینویسه مثل خودکاری که رنگش داره تموم میشه  واقعا حالم گرفته شده امیدوارم دیجی کالا زودتر گوشیرو برام تعویض کنه باتشکر</td>\n",
       "      <td>60</td>\n",
       "      <td>3</td>\n",
       "      <td>HAPPY</td>\n",
       "      <td>NaN</td>\n",
       "    </tr>\n",
       "  </tbody>\n",
       "</table>\n",
       "</div>"
      ],
      "text/plain": [
       "                                                                                                                                                                                                                                                                                                                                                                                                                                                                                                                                                                                                                                                                                                                                                                                                                                                                                                                                                                                                                                                                                                                                                                                                                                                                                                                                                                                                                                                                                                                                                                                                                                                                                                                                                                                                                                                                                                                                                                                                                                                                                                                                                                                                                                                                                                                                                                                                                                                                                                                                                                                                                                                                                                                                                                                                                                                                                                                                                                                                                    Text  \\\n",
       "0                                                                                                                                                                                                                                                                                                                                                                                                                                                                                                                                                                                                                                                                                                                                                                                                                                                                                                                                                                                                                                                                                                                                                                                                                                                                                                                                                                                                                                                                                                                                                                                                                                                                                                                                                                                                                                                                                                                                                                                                                                                                                                                                                                                                                                                                                                                                                                                                                                                                                                                                                                                                                                                                                                                                                                                                                                                                                                 این اولین تجربه من برای خرید ایفون هست   امروز ب دستم رسیده   به اسم طلایی هست ولی دراصل رزگلده  خیلی هم خوش رنگ هست     \n",
       "1                                                                                                                                                                                                                                                                                                                                                                                                                                                                                                                                                                                                                                                                                                                                                                                                                                                                                                                                                                                                                                                                                                                                                                                                                                                                                                                                                                                                                                                                                                                                                                                                                                                                                                                                                                                                                                                                                                                                                                                                                                                                                                                                                                                                                                                                                                                                                                                                                                                                                                                                                                                                                                                                                                                                                                                                                                                                                                                                                                                         خرید این محصول رو توصیه میکنم    \n",
       "2                                                                                                                                                                                                                                                                                                                                                                                                                                                                                                                                                                                                                                                                                                                                                                                                                                                                                                                                                                                                                                                                                                                                                                                                                                                                                                                                                                                                                                                                                                                                                                                                                                                                                                                                                                                                                                                                                                                                                                                                                                                                                                                                                                                                                                                                                                                                                                                                                                                                                                                                                                                                                                                                                                                                                                                                                                                                                                                                                                     1 ساله این گوشی رو دارم   هیچ نقطه ضعفی ازش ندیدم    \n",
       "3                                                                                                                                                                                                                                                                                                                                                                                                                                                                                                                                                                                                                                                                                                                                                                                                                                                                                                                                                                                                                                                                                                                                                                                                                                                                                                                                                                                                                                                                                                                                                                                                                                                                                                                                                                                                                                                                                                                                                                                                                                                                                                                                                                                                                                                                                                                                                                                                                                                                                                                                                                                                                                                                                                                                                                                                                                                                                سلام خدمت دوستان این گوشی از همه نظر عالی  کیفیت ساخت سرعت اجرا کیفیت صدا و تصویر  از نظر حافظه هم فقط 5 گیگ در دسترس شما قرار میگیره     \n",
       "4                                                                                                                                                                                                                                                                                                                                                                                                                                                                                                                                                                                                                                                                                                                                                                                                                                                                                                                                                                                                                                                                                                                                                                                                                                                                                                                                                                                                                                                                                                                                                                                                                                                                                                                                                                                                                                                                                                                                                                                                                                                                                                                                                                                                                                                                                                                                                                                                                                                                                                                                                                                                                                                                                                                                                سلام دوستانی که نگران شکستن صفحه نمایش هستند این رو بدونند که صفحه با گوریلا گلس 5 محافظت میشه و با خدمات ویژه سامسونگ اگر تحت هر شرایط صفحه گوشی دچار ایراد بشه با 200 هزار تومان صفحه رو براتون تعویض میکنند و از لحاظ امکانات هم گوشی عالیه و من از خرید خودم راضیم    \n",
       "5                                                                                                                                                                                                                                                                                                                                                                                                                                                                                                                                                                                                                                                                                                                                                                                                                                                                                                                                                                                                                                                                                                                                                                                                                                                                                                                                                                                                                                                                                                                                                                                                                                                                                                                                                                                                                                                                                                                                                                                                                                                                                                                                                                                                                                                                                                                                                                                                                                                                                                                                                                                                                                                                                                                                                                                                                                                                                      من پکیج کاملش روخریدم   ازهرنظرعالیه   هیچ نقدوایرادی بهش وارد نیست   فقط یه گوشی لوکسه باید خیلی مواظب ضربه خوردن وشکستنش باشین    \n",
       "6   اول از همه خوشحالم که بالاخره نسخه های 128 گیگابایتی برای فروش قرار گرفت چون همیشه من با حافظه گوشی های اندرویدی مشکل داشتم  گوشی قبلی من s7 بود و بعد از 2 سال استفاده که بسیار هم راضی بودم به دلیل تغییرات مثبتی که در گوشی های سامسونگ ایجاد شد تصمیم گرفتم گوشی رو عوض کنم این گوشی واقعا زیباست و طراحی منحصر به فردی داره  زمانی که گوشی رو در دست میگیرید بسیار خودش دست هست و حس خیلی خوبی داره تنها دلیلی که نسخه پلاس رو انتخاب نکردم بزرگی بیش از حد و وزن گوشی بود ولی این نسخه از نظر اندازه فوق العادست کیفیت و بلندی صدای  اسپیکر  ها عالی هست  زمانی که با گوشی قبلی خودم تست کردم واقعا تفاوت زیادی حس میشد  همچنین با گوشی HTC U11 هم مقایسه کردم و باز هم بلندی صدای اس 9 بیشتر بود اما از نظر کیفیت شاید کمی u11 بهتر بود  نگرانی من جای سنسور اثر انگشت بود چون با اس8 که کار کرده بودم اصلا جای مناسبی نداشت ولی این مشکل با تغییر جای سنسور بنظرم کاملا حل شده و سرعت سنسور هم عالی هست و با وجود Intelligent scan که ترکیب سنسور عنبیه و تشخیص چهره هست خیلی نیازی به اثر انگشت احساس نمیشه چون حتی توی تاریکی مطلق هم به سرعت گوشی از این طریق باز میشه اما یک ایراد امنیتی که دیدم این بود که اگر چشمای من بسته باشه باز هم با روش intelligent scan گوشی سریعا باز میشه ولی توی آیفون X ظاهرا با چشمان بسته گوشی باز نمیشه و این از نظر امنیت خیلی بهتره دوربین سلفی خیلی بهتر از گوشی قبلی من هست ولی تفاوت زیادی توی دوربین اصلی با گوشی قبلی خودم ندیدم درکل دوربین اصلی کیفیت خوبی داره و به نسبت نسل های قبل توی زوم آخر نویز کمتری دیده میشه یکی از قابلیت هایی که روی دوربین اس 9 پلاس وجود داره به دلیل دو دوربین بودن گوشی میتونه عکس های بوکه بگیره ولی این گوشی هم چنین قابلیتی داره به اسم selective focus که اگر جسم در فاصله نیم متری باشه دقیقا همون افکت بوکه رو میتونه اعمال کنه و از نظر عملکرد هم خوب بود و در نهایت کیفیت صفحه هم که فوق العادست و بنظرم بهترین هست  و چند مورد هم از نقاط ضعف بگم  باتری   باتری متاسفانه زیاد رضایت بخش نیست و بنظرم به زور میتونه گوشی رو از صبح ساعت 7 8 تا 12 شب برسونه البته استفاده من زیاد هست و همیشه اینترنت هم روشن هست مخصوصا 4G ولی باز انتظار بیشتری میرفت که ظاهرا نسخه پلاس توی این مورد بهتره  مورد بعد AR ایموجی هست که واقعا از نظر عملکرد ضعیف هست و کلا فقط یکبار تستش کردم و کلا ناامید شدم  و دوستان هم تست کردن و اصلا نتیجه جالبی نداشت و همرو  تقریبا یکسان نشون میده نمیدونم چرا سامسونگ این همه روی قابلیت AR ایموجی تبلیغ کرد وقتی به بلوغ نرسیده   و ای کاش مثل نسخه پلاس 6 گیگابایت رم داشت و نمیدونم چرا سامسونگ خواست مثل اپل بین نسخه معمولی و پلاس فرق بزاره   همش تقصیر اپل هست اینارو باب میکنه  D   چون تقریبا 14 15 تا اپ که باز باشه دیگه قبلی هارو میبنده و شروع به ریلود کردن برنامه ها میکنه اگر بازی سنگین اجرا بشه که وضعیت بدتر میشه و با 5 6 تا اپ باز به مشکل بر میخوره و همرو موقع اجرای دوباره ریلود میکنه  در نهایت از خریدم راضی هستم ولی اگر رم 6 گیگابایتی و دوربین دوم نسخه پلاس رو داشت واقعا عالی میشد  چون اصلا نمیتونستم با نسخه پلاس از نظر اندازه کنار بیام و اگر روی قابلیت AR ایموجی بیشتر کار بشه و مثل آیفون X دوربین اسکن سه بعدی اضافه بشه قطعا قابلیت جالبی میشه    \n",
       "7                                                                                                                                                                                                                                                                                                                                                                                                                                                                                                                                                                                                                                                                                                                                                                                                                                                                                                                                                                                                                                                                                                                                                                                                                                                                                                                                                                                                                                                                                                                                                                                                                                                                                                                                                                                                                                                                                                                                                                                                                                                                                                                                                                                                                                                                                                                                                                                                                                                                                                                                                                                                                                                                                                                                                                                                                                                                                                                                          من دو ماهه خریدم واقعا راضیم  دوربینشم عالیه   بهترین گوشی در رنج قیمت خودشه    \n",
       "8                                                                                                                                                                                                                                                                                                                                                                                                                                                                                                                                                                                                                                                                                                                                                                                                                                                                                                                                                                                                                                                                                                                                                                                                                                                                                                                                                                                                                                                                                                                                                                                                                                                                                                                                                                                                                                                                                                                                                                                                                                                                                                                                                                                                                                                                                                                                                                                                                                                                                                                                       بنظر من گوشی خوب و مقرون به صرفه ای بود توی این دوسالی که داشتمش همه جور استفاده ای ازش کردم از بازی های نسبتا سنگین دیتا دار تا استفاده های معمولی صفحه نمایش فوق العاده که بنظرم تنها و بهترین نقطه ی قوتش که باعث شد بگیرمش همین بود چون لذت کار کردن باهاش رو خیلی بیشتر کرده بود و بنظرم عمر خودشو کرده و بیشتر از این انتظاری هم نداشتم ازش نسبت به هزینه ای که کردم البته اینم بگم چندباری از دستم زمین خورده ولی کیفیت مناسب و استحکام خوبی داشت و مشکلی براش پیش نیومد    \n",
       "9                                                                                                                                                                                                                                                                                                                                                                                                                                                                                                                                                                                                                                                                                                                                                                                                                                                                                                                                                                                                                                                                                                                                                                                                                                                                                                                                                                                                                                                                                                                                                                                                                                                                                                                                                                                                                                                                                                                                                                                                                                                                                                                                                                                                                                                                                                                                                                                                                                                                                                                                                   از خریدم راضی ام و گوشی بینظیریه  منتهی یه ایرادی که داره با برنامه های ضبط مکالمات صدای طرف مقابل ضبط نمیشه همه برنامه ها رو امتحان کردم  در اینترنت و سایتهای خارجی که گشتم همه این مشکل داشتن  امیدوارم سامسونگ در آپدیت های بعدی این ایراد رو رفع کنه  بیکسبی ویژن هم در ایران کار نمیکنه برا ضبط ویدئو با تصویر آهسته اگه نور کافی نباشه کیفیتش خیلی خراب میشه ولی در نور بیرون خیلی عالی و با کیفیت ضبط میشه  فیلمبرداری در حالت عادی حتی در تاریکی خیلی خوبه    \n",
       "10                                                                                                                                                                                                                                                                                                                                                                                                                                                                                                                                                                                                                                                                                                                                                                                                                                                                                                                                                                                                                                                                                                                                                                                                                                                                                                                                                                                                                                                                                                                                                                                                                                                                                                                                                                                                                                                                                                                                                                                                                                                                                                                                                                                                                                             سلام بنده حدود یک سال پیش دو عدد از این گوشی خریدم که یکیش برای خودم بود و تا الان ازش راضی ام و با مشکل خاصی برخورد نکردم البته ظرفیت باتری کمه  حدود 6 ساعت  و همون اول تو ذوق میرنه که نسبت به قیمت موبایل  عالیه و مشکل بعدی نداشتن قابلیت اتصال به اینترنت 4g هستش که میتونید با خرید مدل پرو حلش کنید ولی برا من که ازش استفاده عمومی میکنم اشکالی نداره  تا یادم نرفته باید بگم که کیفیت دوربین در همین یکسال به سرعت افت کرد که الان نمیشه با یه دوربین 5 مگاپیکسل مقایسه ش کرد  از جمله نقاط قوتش هم میتونم به کیفیت مطلوب دوربین البته در ماه های اول خرید و سخت افزار  عالی برای کاربری عمومی و نهایتا تولید با استاندارد های جهانی اشاره کنم ولی با توجه به نقاط قوتش در کل خرید خوبی بود و از دیجی کالا به خاطر خدمات خوبش ممنونم ممنون دیجی جون  نظرتومهمه    \n",
       "11                                                                                                                                                                                                                                                                                                                                                                                                                                                                                                                                                                                                                                                                                                                                                                                                                                                                                                                                                                                                                                                                                                                                                                                                                                                                                                                                                                                                                                                                                                                                                                                                                                                                                                                                                                                                                                                                                                                                                                                                                                                                                                                                                                                                                                                                                                                                                                                                                                                                                                                             همه چیز این گوشی عالیه بجز قیمت که البته بیشتر بخاطر گرون شدن دلاره گوشی گلکسی 8 دارم و تغییرات این گوشی جزئی و در حد یه ترغیب کوچیکِ مشتریان سامسونگ برای خرید مدل جدیده تغییراتی مثل جابجایی مثبت حسگر اثر انگشت  ارتقا  نرمافزاری برای گرفتن عکسای باکیفیت تر و جذاب تر   ساخت شکلک AR  و   یه بی سلیقگی هم که دیدم اینکه رنگ هدست  level pro  که هدیه خرید هست با رنگ گوشی  خریداری شده همخوانی نداره بهتر بود امکان تعیین رنگ وجود داشت و یا حداقل رنگ مشابه گوشی تحویل داده می شد     \n",
       "12                                                                                                                                                                                                                                                                                                                                                                                                                                                                                                                                                                                                                                                                                                                                                                                                                                                                                                                                                                                                                                                                                                                                                                                                                                                                                                                                                                                                                                                                                                                                                                                                                                                                                                                                                                                                                                                                                                                                                                                                                                                                                                                                                                                                                                                                                                                                                                                                                                                                                     من و خانواده ام گوشی های متفاوتی رو داشتیم چه از نوع سامسونگ  مثلا note 3  و آیفون  مدلهای اخیر  ولی همگی به کرات و بارها در مقابل ضربه و افتادن از دست و اکثرا در حالت ایستاده و روی زمین سفت و حتی نا هموار  آسفالت  سنگ و سرامیک  بسیار مقاوم بودند و موردی یا شکستگی و خش زننده و قابل توجه هم برایشان حاصل نشدهاست در حالی که من اخیرا سامسونگ note 8  گرفتم  و در اثر افتادن از دست آنهم از ارتفاع 40 سانتیمتری از گوشه اش ترک ناجوری برداشته است و نشان از یا  مشکل طراحی  لبه های تیز و ضربه پذیر  یا عدم دوام صفحه آنست    \n",
       "13                                                                                                                                                                                                                                                                                                                                                                                                                                                                                                                                                                                                                                                                                                                                                                                                                                                                                                                                                                                                                                                                                                                                                                                                                                                                                                                                                                                                                                                                                                                                                                                                                                                                                                                                                                                                                                                                                                                                                                                                                                                                                                                                                                                                                                                      در مجموع از خرید این گوشی راضی هستم  اگر کاربر حرفه ای قلمش باشین و به امکاناتش آشنا باشین  احتمالا حرف منو تأیید میکنین که خیلی کابردیه  ظاهر زیبایی داره و تو اجرا کم نمیاره  حسگر عنبیه سرعت خیلی خوبی داره  من با جای حسگر اثر انگشت مشکلی نداشتم و به سرعت بهش عادت کردم  دستیار صوتی بیکسبی با اسامی فارسی مشکل داره و کار کردن باهاش رو سخت میکنه  اما دستورات انگلیسی رو خیلی خوب اجرا میکنه  بزرگترین نقطه ضعفش باتریشه  اما نه به این معنا که ضعیف باشه  در مقابل عمر باتری آیفون و گوشیهای هوآوی کم میاره اما هنوز رضایتبخشه  امیدوارم عمرش به سرعت کاهش پیدا نکنه  کاش جای سیمکارت دوم با حافظه جانبی یکی نبود  در ضمن من این گوشی رو تو پیش فروش خرید کردم و یک روز زودتر از موعد برای تحویل به موقع با من هماهنگ کردن که به موقع هم به دستم رسید     \n",
       "14                                                                                                                                                                                                                                                                                                                                                                                                                                                                                                                                                                                                                                                                                                                                                                                                                                                                                                                                                                                                                                                                                                                                                                                                                                                                                                                                                                                                                                                                                                                                                                                                                                                                                                                                                                                                                                                                                                                                                                                                                                                                                                                                                                                                                                                                                                                                                                                                                                                                                                                                                                                                                                                                                                                                                                                                                                                                                                                                                          تجربه استفاده از این گوشی جای هیچ حرف و حدیثی باقی نمیگداره    \n",
       "15                                                                                                                                                                                                                                                                                                                                                                                                                                                                                                                                                                                                                                                                                                                                                                                                                                                                                                                                                                                                                                                                                                                                                                                                                                                                                                                                                                                                                                                                                                                                                                                                                                                                                                                                                                                                                                                                                                                                                                                                                                                                                                                                                                                                                                                                                                                                                                                                                                                                                                                                                                                                                           من نوت 8 رو از دیجی پیش خرید کردم خیلی خیلی راضیم گوشی خیلی خوب و زیباییه تو چند ساعت اول حس میکنید خیلی بزرگ و کشیدست که بعد اون چند ساعت کاملا براتون طبیعی میشه خوش دست هست ولی خیلی نمیشه باهاش یه دستی کار کرد جای سنسور اثر انگشت هم خیلی برای راست دستا که گوشی رو با دست چپ میگیرن و با دست راست لمس میکنن مناسب نیست اینا که گفتم تقریبا بدیاش بود به غیر از اینا تو همه چی عالیه    \n",
       "16                                                                                                                                                                                                                                                                                                                                                                                                                                                                                                                                                                                                                                                                                                                                                                                                                                                                                                                                                                                                                                                                                                                                                                                                                                                                                                                                                           من این محصول رو پیش خرید کرده بودم  گوشی قبلیم هم نوت 5 بود  انصافا نوت 5 هیچی کم و کسری نداشت  در مورد این گوشی باید بگم صفحه نمایشش عالیه واقعا  روون کار می کنه  سریعه دورینش واقعا حرف نداره  امکاناتی که میده از جمله قلمش و برنامه های سلامتی عالیه   در سیستم عامل اندروید واقعا یکی از بهترین هاست رنگ مشکیش هم واقعا غوغا میکنه زیباست   اکثر همکارام متوجه شدند که گوشیم رو عوض کردم  من از اسکن چشم استفاده میکنم و کاربدیه بعضی جا ها نور زیاد که هست کار نمی کنه البیته من ساعت گیر 3 رو گرفتم و به عنوان دستگاه قابل اعتماد شناسوندم و راحت الکی قفل نمیشه  در ضمن می تونید به گزینه های قفل هوشمند رجوع کنید و ایتم ها خوبی داره مثل محل قابل اعتماد مثل خونتون که قفل نشه داخل خونتون  یک توصیه که به دوستان دارم همراه این گوشی ساعت گیر 3 و هدفون بیسیم یو پرو نیز بخرند و گوشیشون رو تو خیابون اینها دست نگیرند و تو کیف و یا لباسشون بزارند  من با استفاده از برنامه اسمارت سوییج کلیه اطلاعات گوشیم رو منتقل کردم حتی تم گوشی قبلیم حتی چیدمان ایکون ها و حتی پسورد های وایرلس خونه و شرکت  خیلی جالب بود عکس و شماره هاو اس ام اس و ها و اطلاهات تماس ها هم براحتی اب خوردن منتقل شدند  کل این پروسه نیم ساعت با کابل طول کشید  در کل من اعتقاد دارم گوشی باید پرچم دار باشه مخصوصا برای افرادی که همه کار و زندگیشون با گوشیه هنور دکس رو امتحان نکردم  هدیه ها هم فعلا بجز فیدیبو امتحان نکردم اما هدیه هاش کاربریه و کاملا ارزشمند  یک مورد هم بهتره بدوستان بگم اینکه فلش های OTG که برای یو اس بی های تایپ B بود الان با رابط کار نمی کنه و بایستی فلش OTG تایپ C بخریم که در دیجی کالا هم موجوده  من برای گوشیم از همون کاور ساده پشت گوشی در جعبه اولیه بود استفاده می کنم و روش گلس اینها ننداختم  اینطوری بیشتر حال می کنم     \n",
       "17                                                                                                                                                                                                                                                                                                                                                                                                                                                                                                                                                                                                                                                                                                                                                                                                                                                                                                                                                                                                                                                                                                                                                                                                                                                                                                                                                                                                                                                                                                                                                                                                                                                                                                                                                                                                                                                                                                                                                                                                                                                                                                                                                                                                                                                                                                                                                                                                                                                                                                                                                                                                                                                                                                                                                                                                                                                                                                                             گوشیه فوق العاده ای هستش اصلا نمیشه براش عیب و ایرادی گرفت دیجی جووون بابت هدیه ها ممنون    \n",
       "18                                                                                                                                                                                                                                                                                                                                                                                                                                                                                                                                                                                                                                                                                                                                                                                                                                                                                                                                                                                                                                                                                                                                                                                                                                                                                                                                                                                                                                                                                                                                                                                                                                                                                                                                                                                                                                                                                                                                                                                                                                                                                                                                                                                                                                                                                                                                                                                                                    کاملترین گوشی ای که در حال حاضر تو این رنج قیمت میشه خرید  من قصد داشتم صبر کنم برا آیفون x ولی نظرم عوض شد و اینو پیش خرید کردم   واقعا راضیم ازش بیشتر به خاطر قلم s pen خریدمش ولی بعد دو سه هفته کار کردن باهاش هیچ نقطه ضعف و مشکل حتی جزئی ندیدم و فقط اسپیکرهاش اگه استریو بود کیفیت صدا با چیزی که الان هست خیلی فرق میکرد گرچه الانم خوبه و راضی کننده هستش  به راحتی میتونه از پس هر کار سنگینی بر بیاد یعنی 6 گیگ رم فقط روی کاغذ نیست اگه باهاش کار کنین کاملا متوجه تفاوتش با بقیه گوشی های هم رده  غیر از آیفون ها  در بحث سرعت میشین از دیجی کالا بابت تحویل زودتر از موعدش ممنونم    \n",
       "19                                                                                                                                                                                                                                                                                                                                                                                                                                                                                                                                                                                                                                                                                                                                                                                                                                                                                                                                                                                                                                                                                                                                                                                                                                                                                                                                                                                                                                                                                                                                                                                                                                                                                                                                                                                                                                                                                                                                                                                                                                                                                                                                                                                                                                                                                                                                                                                                                                                                                                                                                                                                                                                                                                         باسلام من این گوشیرو باگارانتی مایکروتل پیش خرید کردم چند روزه رسیده دستم تقریباً همه چیش خوبه بجز قلمش وقتی میخوای چیزی بنویسی باید حتماً فشاربدی رو قلم وگرنه حرفها رو بریده بریده مینویسه مثل خودکاری که رنگش داره تموم میشه  واقعا حالم گرفته شده امیدوارم دیجی کالا زودتر گوشیرو برام تعویض کنه باتشکر     \n",
       "\n",
       "    Score  Suggestion predicted_label predicted_label2  \n",
       "0     100           1             SAD              NaN  \n",
       "1      84           1             SAD              NaN  \n",
       "2      60           1             SAD              NaN  \n",
       "3      96           1           HAPPY              NaN  \n",
       "4      92           1           HAPPY              NaN  \n",
       "5      60           1             SAD              NaN  \n",
       "6      96           1             SAD              NaN  \n",
       "7     100           1           HAPPY              NaN  \n",
       "8     100           1           HAPPY              NaN  \n",
       "9      92           1           HAPPY              NaN  \n",
       "10     72           1           HAPPY              NaN  \n",
       "11     92           1           HAPPY              NaN  \n",
       "12     52           1             SAD              NaN  \n",
       "13     84           1           HAPPY              NaN  \n",
       "14    100           1           HAPPY              NaN  \n",
       "15     88           1             SAD              NaN  \n",
       "16     84           1             SAD              NaN  \n",
       "17    100           1           HAPPY              NaN  \n",
       "18     96           1             SAD              NaN  \n",
       "19     60           3           HAPPY              NaN  "
      ]
     },
     "execution_count": 12,
     "metadata": {},
     "output_type": "execute_result"
    }
   ],
   "source": [
    "pd.set_option('display.max_colwidth', None)\n",
    "df_digikala.head(20)"
   ]
  },
  {
   "cell_type": "code",
   "execution_count": 13,
   "id": "48eb5c0f",
   "metadata": {
    "execution": {
     "iopub.execute_input": "2024-01-27T01:30:10.590916Z",
     "iopub.status.busy": "2024-01-27T01:30:10.590183Z",
     "iopub.status.idle": "2024-01-27T01:30:10.840866Z",
     "shell.execute_reply": "2024-01-27T01:30:10.839701Z"
    },
    "papermill": {
     "duration": 0.277417,
     "end_time": "2024-01-27T01:30:10.843669",
     "exception": false,
     "start_time": "2024-01-27T01:30:10.566252",
     "status": "completed"
    },
    "tags": []
   },
   "outputs": [
    {
     "data": {
      "image/png": "[encoded data removed]",
      "text/plain": [
       "<Figure size 640x480 with 1 Axes>"
      ]
     },
     "metadata": {},
     "output_type": "display_data"
    }
   ],
   "source": [
    "sns.countplot(x='predicted_label2', data=df_digikala)\n",
    "\n",
    "plt.xlabel('Sentiment')\n",
    "plt.ylabel('Count')\n",
    "plt.title('Distribution of Sentiments in the Dataset')\n",
    "\n",
    "plt.show()"
   ]
  },
  {
   "cell_type": "markdown",
   "id": "814dfcee",
   "metadata": {
    "papermill": {
     "duration": 0.022465,
     "end_time": "2024-01-27T01:30:10.889268",
     "exception": false,
     "start_time": "2024-01-27T01:30:10.866803",
     "status": "completed"
    },
    "tags": []
   },
   "source": [
    "Split each dataset into training, testing, and validation sets."
   ]
  },
  {
   "cell_type": "code",
   "execution_count": 14,
   "id": "c7fac2bb",
   "metadata": {
    "execution": {
     "iopub.execute_input": "2024-01-27T01:30:10.937205Z",
     "iopub.status.busy": "2024-01-27T01:30:10.936735Z",
     "iopub.status.idle": "2024-01-27T01:30:10.970316Z",
     "shell.execute_reply": "2024-01-27T01:30:10.969290Z"
    },
    "papermill": {
     "duration": 0.061133,
     "end_time": "2024-01-27T01:30:10.973195",
     "exception": false,
     "start_time": "2024-01-27T01:30:10.912062",
     "status": "completed"
    },
    "tags": []
   },
   "outputs": [],
   "source": [
    "from sklearn.model_selection import train_test_split\n",
    "\n",
    "X_snappfood = df_snappfood['comment']\n",
    "y_snappfood = df_snappfood['label_id']\n",
    "\n",
    "X_train_snappfood, X_test_snappfood, y_train_snappfood, y_test_snappfood = train_test_split(X_snappfood, y_snappfood, test_size=0.4, random_state=42)\n",
    "X_validation_snappfood, X_test_snappfood, y_validation_snappfood, y_test_snappfood = train_test_split(X_test_snappfood, y_test_snappfood, train_size=0.5, random_state=42)\n",
    "\n",
    "df_digikala['predicted_label'] = df_digikala['predicted_label'].replace({'SAD': 0, 'HAPPY': 1})\n",
    "\n",
    "X_digikala = df_digikala['Text']\n",
    "y_digikala = df_digikala['predicted_label']\n",
    "\n",
    "X_train_digikala, X_test_digikala, y_train_digikala, y_test_digikala = train_test_split(X_digikala, y_digikala, test_size=0.4, random_state=42)\n",
    "X_validation_digikala, X_test_digikala, y_validation_digikala, y_test_digikala = train_test_split(X_test_digikala, y_test_digikala, train_size=0.5, random_state=42)\n",
    "\n"
   ]
  },
  {
   "cell_type": "markdown",
   "id": "cd30e86d",
   "metadata": {
    "papermill": {
     "duration": 0.024036,
     "end_time": "2024-01-27T01:30:11.020916",
     "exception": false,
     "start_time": "2024-01-27T01:30:10.996880",
     "status": "completed"
    },
    "tags": []
   },
   "source": [
    "# P2: Preprocessing and Feature Extraction"
   ]
  },
  {
   "cell_type": "markdown",
   "id": "099c0d48",
   "metadata": {
    "papermill": {
     "duration": 0.022923,
     "end_time": "2024-01-27T01:30:11.067849",
     "exception": false,
     "start_time": "2024-01-27T01:30:11.044926",
     "status": "completed"
    },
    "tags": []
   },
   "source": [
    "The goal of this part is to make the Snappfood dataset ready for the neural network to be trained with.<br>\n",
    "Note: You can use many libraries including `NLTK`, `Spacy`, `Hazm`, `Parsivar`, `Stanza` etc."
   ]
  },
  {
   "cell_type": "markdown",
   "id": "241d41fb",
   "metadata": {
    "papermill": {
     "duration": 0.022416,
     "end_time": "2024-01-27T01:30:11.113584",
     "exception": false,
     "start_time": "2024-01-27T01:30:11.091168",
     "status": "completed"
    },
    "tags": []
   },
   "source": [
    "Remove the unnecessary characters of the dataset. <br>\n"
   ]
  },
  {
   "cell_type": "code",
   "execution_count": 15,
   "id": "233cf567",
   "metadata": {
    "execution": {
     "iopub.execute_input": "2024-01-27T01:30:11.161744Z",
     "iopub.status.busy": "2024-01-27T01:30:11.160767Z",
     "iopub.status.idle": "2024-01-27T01:30:29.001924Z",
     "shell.execute_reply": "2024-01-27T01:30:29.000217Z"
    },
    "papermill": {
     "duration": 17.868582,
     "end_time": "2024-01-27T01:30:29.004955",
     "exception": false,
     "start_time": "2024-01-27T01:30:11.136373",
     "status": "completed"
    },
    "tags": []
   },
   "outputs": [
    {
     "name": "stdout",
     "output_type": "stream",
     "text": [
      "Collecting parsivar\r\n",
      "  Obtaining dependency information for parsivar from https://files.pythonhosted.org/packages/7c/9a/24b99d69ea31ed02974576d7d09d4f305ae574c52145b1ad998fd4a58285/parsivar-0.2.3.1-py3-none-any.whl.metadata\r\n",
      "  Downloading parsivar-0.2.3.1-py3-none-any.whl.metadata (242 bytes)\r\n",
      "Collecting nltk>=3.6.6 (from parsivar)\r\n",
      "  Downloading nltk-3.8.1-py3-none-any.whl (1.5 MB)\r\n",
      "\u001b[2K     \u001b[90m━━━━━━━━━━━━━━━━━━━━━━━━━━━━━━━━━━━━━━━━\u001b[0m \u001b[32m1.5/1.5 MB\u001b[0m \u001b[31m13.5 MB/s\u001b[0m eta \u001b[36m0:00:00\u001b[0m\r\n",
      "\u001b[?25hRequirement already satisfied: click in /opt/conda/lib/python3.10/site-packages (from nltk>=3.6.6->parsivar) (8.1.7)\r\n",
      "Requirement already satisfied: joblib in /opt/conda/lib/python3.10/site-packages (from nltk>=3.6.6->parsivar) (1.3.2)\r\n",
      "Requirement already satisfied: regex>=2021.8.3 in /opt/conda/lib/python3.10/site-packages (from nltk>=3.6.6->parsivar) (2023.8.8)\r\n",
      "Requirement already satisfied: tqdm in /opt/conda/lib/python3.10/site-packages (from nltk>=3.6.6->parsivar) (4.66.1)\r\n",
      "Downloading parsivar-0.2.3.1-py3-none-any.whl (18.0 MB)\r\n",
      "\u001b[2K   \u001b[90m━━━━━━━━━━━━━━━━━━━━━━━━━━━━━━━━━━━━━━━━\u001b[0m \u001b[32m18.0/18.0 MB\u001b[0m \u001b[31m48.6 MB/s\u001b[0m eta \u001b[36m0:00:00\u001b[0m\r\n",
      "\u001b[?25hInstalling collected packages: nltk, parsivar\r\n",
      "  Attempting uninstall: nltk\r\n",
      "    Found existing installation: nltk 3.2.4\r\n",
      "    Uninstalling nltk-3.2.4:\r\n",
      "      Successfully uninstalled nltk-3.2.4\r\n",
      "\u001b[31mERROR: pip's dependency resolver does not currently take into account all the packages that are installed. This behaviour is the source of the following dependency conflicts.\r\n",
      "preprocessing 0.1.13 requires nltk==3.2.4, but you have nltk 3.8.1 which is incompatible.\u001b[0m\u001b[31m\r\n",
      "\u001b[0mSuccessfully installed nltk-3.8.1 parsivar-0.2.3.1\r\n",
      "Note: you may need to restart the kernel to use updated packages.\n"
     ]
    }
   ],
   "source": [
    "pip install parsivar"
   ]
  },
  {
   "cell_type": "code",
   "execution_count": 16,
   "id": "f7fe667f",
   "metadata": {
    "execution": {
     "iopub.execute_input": "2024-01-27T01:30:29.061520Z",
     "iopub.status.busy": "2024-01-27T01:30:29.061062Z",
     "iopub.status.idle": "2024-01-27T01:30:29.078853Z",
     "shell.execute_reply": "2024-01-27T01:30:29.077950Z"
    },
    "papermill": {
     "duration": 0.048592,
     "end_time": "2024-01-27T01:30:29.081585",
     "exception": false,
     "start_time": "2024-01-27T01:30:29.032993",
     "status": "completed"
    },
    "tags": []
   },
   "outputs": [],
   "source": [
    "from parsivar import Normalizer, Tokenizer\n",
    "import re\n",
    "\n",
    "def preprocess_text(text):\n",
    "    # Clean the text\n",
    "    cleaned_text = re.sub(r'[^آابپتثجچحخدذرزژسشصضطظعغفقکگلمنوهی]', ' ', text)\n",
    "    cleaned_text = re.sub(r'\\s+', ' ', cleaned_text).strip()\n",
    "\n",
    "    # Normalize the text\n",
    "    normalizer = Normalizer()\n",
    "    normalized_text = normalizer.normalize(cleaned_text)\n",
    "\n",
    "    # Tokenize the normalized text\n",
    "    tokenizer = Tokenizer()\n",
    "    tokens = tokenizer.tokenize_words(normalized_text)\n",
    "\n",
    "    # Join the tokens to get the preprocessed text\n",
    "    preprocessed_text = ' '.join(tokens)\n",
    "\n",
    "    return preprocessed_text\n"
   ]
  },
  {
   "cell_type": "markdown",
   "id": "aa37cd81",
   "metadata": {
    "papermill": {
     "duration": 0.026344,
     "end_time": "2024-01-27T01:30:29.134522",
     "exception": false,
     "start_time": "2024-01-27T01:30:29.108178",
     "status": "completed"
    },
    "tags": []
   },
   "source": [
    "Normalize the dataset. <br>\n",
    "Note: Check the result. For instance, if you do this correctly, you'll have a dataset containing just 1 type of space. "
   ]
  },
  {
   "cell_type": "code",
   "execution_count": 17,
   "id": "039aa1dc",
   "metadata": {
    "execution": {
     "iopub.execute_input": "2024-01-27T01:30:29.187007Z",
     "iopub.status.busy": "2024-01-27T01:30:29.186601Z",
     "iopub.status.idle": "2024-01-27T01:32:04.274915Z",
     "shell.execute_reply": "2024-01-27T01:32:04.273752Z"
    },
    "papermill": {
     "duration": 95.118016,
     "end_time": "2024-01-27T01:32:04.277925",
     "exception": false,
     "start_time": "2024-01-27T01:30:29.159909",
     "status": "completed"
    },
    "tags": []
   },
   "outputs": [],
   "source": [
    "X_train_snappfood = X_train_snappfood.apply(preprocess_text)\n",
    "X_test_snappfood = X_test_snappfood.apply(preprocess_text)\n",
    "X_validation_snappfood = X_validation_snappfood.apply(preprocess_text)\n",
    "\n",
    "X_train_digikala = X_train_digikala.apply(preprocess_text)\n",
    "X_test_digikala = X_test_digikala.apply(preprocess_text)\n",
    "X_validation_digikala = X_validation_digikala.apply(preprocess_text)"
   ]
  },
  {
   "cell_type": "markdown",
   "id": "a38534e0",
   "metadata": {
    "papermill": {
     "duration": 0.024847,
     "end_time": "2024-01-27T01:32:04.328250",
     "exception": false,
     "start_time": "2024-01-27T01:32:04.303403",
     "status": "completed"
    },
    "tags": []
   },
   "source": [
    "If you want to include other preprocessing steps, put all of your code here."
   ]
  },
  {
   "cell_type": "code",
   "execution_count": 18,
   "id": "bf7623aa",
   "metadata": {
    "execution": {
     "iopub.execute_input": "2024-01-27T01:32:04.380616Z",
     "iopub.status.busy": "2024-01-27T01:32:04.380207Z",
     "iopub.status.idle": "2024-01-27T01:32:04.390243Z",
     "shell.execute_reply": "2024-01-27T01:32:04.389091Z"
    },
    "papermill": {
     "duration": 0.039591,
     "end_time": "2024-01-27T01:32:04.392841",
     "exception": false,
     "start_time": "2024-01-27T01:32:04.353250",
     "status": "completed"
    },
    "tags": []
   },
   "outputs": [
    {
     "data": {
      "text/plain": [
       "11609            من این سفارش را فقط به خاطر نوار بهداشتی بالدار نازک پنبه‌ریز ثبت کرده‌بودم باقی اقلام را زیاد نیاز نداشتم اینکه ندارند به جاش هر چی دلشون می‌خواد می‌فرستند بعد میگویند این همونه بسیار ناراحت‌کننده است\n",
       "4660                                                                                                                                                            شیر موز پسته فاقد شیر‌بود بستنی پسته‌بود کیفیت بستنی پایین\n",
       "49596                                                                                                                                                                                         در حد انتظار نبود راضی نبودم\n",
       "35299                                                                                                                                                                                                    خیلی خیلی شور بود\n",
       "648      نکته مثبت این رستوران تحویل به موقع‌بود و نکته منفی بی‌کیفیت ترین پیتزایی که تا حالا امتحان کرده‌بودم و واقعا قابل خوردن نبود بیشتر سطح پیتزا فقط پنیر‌بود که هم آب انداخته‌بود و کیفیت و مزه غیر قابل قبولی داشت\n",
       "Name: comment, dtype: object"
      ]
     },
     "execution_count": 18,
     "metadata": {},
     "output_type": "execute_result"
    }
   ],
   "source": [
    "X_train_snappfood.head()"
   ]
  },
  {
   "cell_type": "code",
   "execution_count": 19,
   "id": "e4981a06",
   "metadata": {
    "execution": {
     "iopub.execute_input": "2024-01-27T01:32:04.447668Z",
     "iopub.status.busy": "2024-01-27T01:32:04.446851Z",
     "iopub.status.idle": "2024-01-27T01:32:04.455952Z",
     "shell.execute_reply": "2024-01-27T01:32:04.454696Z"
    },
    "papermill": {
     "duration": 0.038655,
     "end_time": "2024-01-27T01:32:04.458560",
     "exception": false,
     "start_time": "2024-01-27T01:32:04.419905",
     "status": "completed"
    },
    "tags": []
   },
   "outputs": [
    {
     "data": {
      "text/plain": [
       "489                                                                                                                                                                                                                                                                                                                                                                          سلام من حدودا دو هفته است که این لپ تاپ رو از دیجی کالا خریدم چیزخوبیه فقط تنهامشکلی که داره اینه که بعدازیه مدت کوتاهی صدای خرخری آزارم میده صدای کمیه ولی احساس میکنم ازناحیه هارد دیسکش باشه مشکل دیگه‌ای نداره فقط این صدای خرخر ش بد جوری روی اعصابم راه میره\n",
       "1446                                                                                                                                                                                                                                                                                                                                                                                                            سلام دوستان این پخش رو تقریبا ماه واسه برادرم خریدیم حتی ازپخش خودم که پایونر هست بهتره فقط نقاط قوت پخش من نسبت به برادرم رنگ مختلف داره ولی این فقط تک رنگ آبی داره اگراین موضوع براتون زیادی مهم نیست درخریداین پخش شک نکنید\n",
       "1229                                                                                                                                                                                                                                                                                                                                                                                                                                                                                                                        همین الان رسید به دستم خیلی کیفیت ساخت خوبی داره و گرما رو هم خیلی خوب انتقال میده به نظرم با این قیمت می‌ارزه تفال\n",
       "690     سلام خدمت دوستان دیروز لپتاپ به دستم رسید کلا با چیزی ک داخل عکس دیدم فرق میکنه بسیار زیبا و چشم نواز جنس بدنه به نسبت پلاستیکی بودن واقعا عالی و راضی‌کننده کیفیت صفحه نمایش خوب سرعت در اجرای بازی‌ها واقعا بالاست بدون کوچکترین احساس گرم شدن در بدنه لپتاپ بهترین انتخاب توی این رنج قیمت هست مطمعنم کسی از خریدش پشیمون نمیشه تنها چیزی ک موقع رسیدن بسته منو ناراحت کرد بسته‌بندی غیر اصولی‌بود چون چندتا کالا با هم سفارش داده‌بودم همیجوری کنار هم چیده بودنشون بدون هیچ نگهدارنده‌ای جوری‌بود ک ریخته‌شده‌بودن رو هم جنسا امیدوارم به این مورد هم رسیدگی کنن ک مشتری کاملا راضی باشه ببخشید طولانی شد ممنون دوستان و دیجی کالا\n",
       "2500                                                                                                                                                                                                                                                                                                                                                                                                                                                                                                                                                     گزینه ی خوبیه برای خرید و در مقایسه با قیمت هم عالی هست صدای خیلی قوی و خوبی هم داراست\n",
       "Name: Text, dtype: object"
      ]
     },
     "execution_count": 19,
     "metadata": {},
     "output_type": "execute_result"
    }
   ],
   "source": [
    "X_train_digikala.head()"
   ]
  },
  {
   "cell_type": "markdown",
   "id": "aef2b0c6",
   "metadata": {
    "papermill": {
     "duration": 0.025711,
     "end_time": "2024-01-27T01:32:04.510757",
     "exception": false,
     "start_time": "2024-01-27T01:32:04.485046",
     "status": "completed"
    },
    "tags": []
   },
   "source": [
    "Extract features from the Snappfood dataset\n",
    "<br> Note: You should use both of the following methods, and compare the results at the end.\n",
    "- Method 1 (Classic): Use `CountVectorizer` or `TF-IDF`.\n",
    "- Method 2 (Modern): Use `Word2Vec`, `FastText`, `GloVe`, `Doc2Vec` or train your own `Embedding` Layer. \n",
    "\n",
    "If you choose to train your own `Embedding`s, you'll just need to specify an ID for each word remaining in your dataset. "
   ]
  },
  {
   "cell_type": "code",
   "execution_count": 20,
   "id": "9ebac41e",
   "metadata": {
    "execution": {
     "iopub.execute_input": "2024-01-27T01:32:04.564817Z",
     "iopub.status.busy": "2024-01-27T01:32:04.564350Z",
     "iopub.status.idle": "2024-01-27T01:32:06.685663Z",
     "shell.execute_reply": "2024-01-27T01:32:06.684021Z"
    },
    "papermill": {
     "duration": 2.15156,
     "end_time": "2024-01-27T01:32:06.688320",
     "exception": false,
     "start_time": "2024-01-27T01:32:04.536760",
     "status": "completed"
    },
    "tags": []
   },
   "outputs": [
    {
     "name": "stdout",
     "output_type": "stream",
     "text": [
      "[[0.         0.         0.         ... 0.         0.         0.        ]\n",
      " [0.         0.         0.         ... 0.         0.         0.        ]\n",
      " [0.         0.         0.         ... 0.         0.         0.        ]\n",
      " ...\n",
      " [0.         0.         0.         ... 0.         0.         0.        ]\n",
      " [0.         0.         0.         ... 0.         0.         0.        ]\n",
      " [0.         0.25603735 0.         ... 0.         0.         0.        ]]\n"
     ]
    }
   ],
   "source": [
    "# Classic Method\n",
    "\n",
    "from sklearn.feature_extraction.text import TfidfVectorizer\n",
    "\n",
    "tfidf = TfidfVectorizer(max_features = 100)\n",
    "X_train_snappfood_tfidf = tfidf.fit_transform(X_train_snappfood).toarray()\n",
    "X_test_snappfood_tfidf = tfidf.transform(X_test_snappfood).toarray()\n",
    "X_validation_snappfood_tfidf = tfidf.transform(X_validation_snappfood).toarray()\n",
    "\n",
    "print(X_train_snappfood_tfidf)"
   ]
  },
  {
   "cell_type": "code",
   "execution_count": 21,
   "id": "2c242f6e",
   "metadata": {
    "execution": {
     "iopub.execute_input": "2024-01-27T01:32:06.741987Z",
     "iopub.status.busy": "2024-01-27T01:32:06.741590Z",
     "iopub.status.idle": "2024-01-27T01:32:23.047557Z",
     "shell.execute_reply": "2024-01-27T01:32:23.045954Z"
    },
    "papermill": {
     "duration": 16.336008,
     "end_time": "2024-01-27T01:32:23.050441",
     "exception": false,
     "start_time": "2024-01-27T01:32:06.714433",
     "status": "completed"
    },
    "tags": []
   },
   "outputs": [
    {
     "name": "stdout",
     "output_type": "stream",
     "text": [
      "Collecting hazm\r\n",
      "  Obtaining dependency information for hazm from https://files.pythonhosted.org/packages/91/8c/cc3d01c27681eb8223781ea162a23f9926647ce864eb601a19aee4bce0af/hazm-0.10.0-py3-none-any.whl.metadata\r\n",
      "  Downloading hazm-0.10.0-py3-none-any.whl.metadata (11 kB)\r\n",
      "Collecting fasttext-wheel<0.10.0,>=0.9.2 (from hazm)\r\n",
      "  Downloading fasttext_wheel-0.9.2-cp310-cp310-manylinux_2_17_x86_64.manylinux2014_x86_64.whl (4.4 MB)\r\n",
      "\u001b[2K     \u001b[90m━━━━━━━━━━━━━━━━━━━━━━━━━━━━━━━━━━━━━━━━\u001b[0m \u001b[32m4.4/4.4 MB\u001b[0m \u001b[31m31.3 MB/s\u001b[0m eta \u001b[36m0:00:00\u001b[0m\r\n",
      "\u001b[?25hRequirement already satisfied: flashtext<3.0,>=2.7 in /opt/conda/lib/python3.10/site-packages (from hazm) (2.7)\r\n",
      "Requirement already satisfied: gensim<5.0.0,>=4.3.1 in /opt/conda/lib/python3.10/site-packages (from hazm) (4.3.2)\r\n",
      "Requirement already satisfied: nltk<4.0.0,>=3.8.1 in /opt/conda/lib/python3.10/site-packages (from hazm) (3.8.1)\r\n",
      "Requirement already satisfied: numpy==1.24.3 in /opt/conda/lib/python3.10/site-packages (from hazm) (1.24.3)\r\n",
      "Collecting python-crfsuite<0.10.0,>=0.9.9 (from hazm)\r\n",
      "  Obtaining dependency information for python-crfsuite<0.10.0,>=0.9.9 from https://files.pythonhosted.org/packages/38/1d/c475ba7d11e9735f00eb08e2f5315aa2e21c24cc85a0474c3fd425edef58/python_crfsuite-0.9.10-cp310-cp310-manylinux_2_17_x86_64.manylinux2014_x86_64.whl.metadata\r\n",
      "  Downloading python_crfsuite-0.9.10-cp310-cp310-manylinux_2_17_x86_64.manylinux2014_x86_64.whl.metadata (4.2 kB)\r\n",
      "Requirement already satisfied: scikit-learn<2.0.0,>=1.2.2 in /opt/conda/lib/python3.10/site-packages (from hazm) (1.2.2)\r\n",
      "Requirement already satisfied: pybind11>=2.2 in /opt/conda/lib/python3.10/site-packages (from fasttext-wheel<0.10.0,>=0.9.2->hazm) (2.11.1)\r\n",
      "Requirement already satisfied: setuptools>=0.7.0 in /opt/conda/lib/python3.10/site-packages (from fasttext-wheel<0.10.0,>=0.9.2->hazm) (68.1.2)\r\n",
      "Requirement already satisfied: scipy>=1.7.0 in /opt/conda/lib/python3.10/site-packages (from gensim<5.0.0,>=4.3.1->hazm) (1.11.4)\r\n",
      "Requirement already satisfied: smart-open>=1.8.1 in /opt/conda/lib/python3.10/site-packages (from gensim<5.0.0,>=4.3.1->hazm) (6.3.0)\r\n",
      "Requirement already satisfied: click in /opt/conda/lib/python3.10/site-packages (from nltk<4.0.0,>=3.8.1->hazm) (8.1.7)\r\n",
      "Requirement already satisfied: joblib in /opt/conda/lib/python3.10/site-packages (from nltk<4.0.0,>=3.8.1->hazm) (1.3.2)\r\n",
      "Requirement already satisfied: regex>=2021.8.3 in /opt/conda/lib/python3.10/site-packages (from nltk<4.0.0,>=3.8.1->hazm) (2023.8.8)\r\n",
      "Requirement already satisfied: tqdm in /opt/conda/lib/python3.10/site-packages (from nltk<4.0.0,>=3.8.1->hazm) (4.66.1)\r\n",
      "Requirement already satisfied: threadpoolctl>=2.0.0 in /opt/conda/lib/python3.10/site-packages (from scikit-learn<2.0.0,>=1.2.2->hazm) (3.2.0)\r\n",
      "Downloading hazm-0.10.0-py3-none-any.whl (892 kB)\r\n",
      "\u001b[2K   \u001b[90m━━━━━━━━━━━━━━━━━━━━━━━━━━━━━━━━━━━━━━━━\u001b[0m \u001b[32m892.6/892.6 kB\u001b[0m \u001b[31m42.1 MB/s\u001b[0m eta \u001b[36m0:00:00\u001b[0m\r\n",
      "\u001b[?25hDownloading python_crfsuite-0.9.10-cp310-cp310-manylinux_2_17_x86_64.manylinux2014_x86_64.whl (1.1 MB)\r\n",
      "\u001b[2K   \u001b[90m━━━━━━━━━━━━━━━━━━━━━━━━━━━━━━━━━━━━━━━━\u001b[0m \u001b[32m1.1/1.1 MB\u001b[0m \u001b[31m44.9 MB/s\u001b[0m eta \u001b[36m0:00:00\u001b[0m\r\n",
      "\u001b[?25hInstalling collected packages: python-crfsuite, fasttext-wheel, hazm\r\n",
      "Successfully installed fasttext-wheel-0.9.2 hazm-0.10.0 python-crfsuite-0.9.10\r\n",
      "Note: you may need to restart the kernel to use updated packages.\n"
     ]
    }
   ],
   "source": [
    "pip install hazm"
   ]
  },
  {
   "cell_type": "code",
   "execution_count": 22,
   "id": "962bead6",
   "metadata": {
    "execution": {
     "iopub.execute_input": "2024-01-27T01:32:23.107380Z",
     "iopub.status.busy": "2024-01-27T01:32:23.106894Z",
     "iopub.status.idle": "2024-01-27T01:32:48.990353Z",
     "shell.execute_reply": "2024-01-27T01:32:48.989068Z"
    },
    "papermill": {
     "duration": 25.915498,
     "end_time": "2024-01-27T01:32:48.993253",
     "exception": false,
     "start_time": "2024-01-27T01:32:23.077755",
     "status": "completed"
    },
    "tags": []
   },
   "outputs": [
    {
     "name": "stdout",
     "output_type": "stream",
     "text": [
      "[[-0.21090384  0.30498585  0.37912652 ... -0.06344489  0.13625598\n",
      "  -0.10260044]\n",
      " [ 0.30279016  0.17887713 -0.10902634 ... -0.17615774 -0.27984071\n",
      "  -0.27433211]\n",
      " [-0.1052021  -0.10989889 -0.24469358 ... -0.03812666  0.37265682\n",
      "   0.45862797]\n",
      " ...\n",
      " [ 0.04777654  0.0728919  -0.16149303 ... -0.10977128 -0.00340929\n",
      "   0.29338348]\n",
      " [-0.00794604  0.02289598  0.27850804 ... -0.02562418 -0.03417836\n",
      "   0.09051222]\n",
      " [ 0.07912802 -0.29697379  0.45334455 ... -0.010837    0.09893942\n",
      "   0.0521022 ]]\n"
     ]
    }
   ],
   "source": [
    "# Modern Method\n",
    "\n",
    "from gensim.models import Word2Vec\n",
    "from hazm import word_tokenize, stopwords_list\n",
    "\n",
    "w2v = Word2Vec([text.split() for text in X_train_snappfood], window=5, min_count=5, workers=4)\n",
    "\n",
    "def vectorize(text):\n",
    "    words = [w2v.wv[word] for word in text.split() if word in w2v.wv]\n",
    "    if not words:\n",
    "        return np.zeros(100)\n",
    "    words = np.array(words)\n",
    "    return words.mean(axis=0)\n",
    "\n",
    "X_train_snappfood_w2v = np.array([vectorize(text) for text in X_train_snappfood])\n",
    "X_test_snappfood_w2v = np.array([vectorize(text) for text in X_test_snappfood])\n",
    "X_validation_snappfood_w2v = np.array([vectorize(text) for text in X_validation_snappfood])\n",
    "\n",
    "print(X_train_snappfood_w2v)"
   ]
  },
  {
   "cell_type": "code",
   "execution_count": 23,
   "id": "c97b13cc",
   "metadata": {
    "execution": {
     "iopub.execute_input": "2024-01-27T01:32:49.050676Z",
     "iopub.status.busy": "2024-01-27T01:32:49.049375Z",
     "iopub.status.idle": "2024-01-27T01:32:49.055127Z",
     "shell.execute_reply": "2024-01-27T01:32:49.054306Z"
    },
    "papermill": {
     "duration": 0.03675,
     "end_time": "2024-01-27T01:32:49.057523",
     "exception": false,
     "start_time": "2024-01-27T01:32:49.020773",
     "status": "completed"
    },
    "tags": []
   },
   "outputs": [],
   "source": [
    "# Modern Method\n",
    "\n",
    "#from gensim.models import Word2Vec\n",
    "#from hazm import word_tokenize, stopwords_list\n",
    "\n",
    "\n",
    "#stop_words = set(stopwords_list())\n",
    "#X_train_snappfood['tokenized_comment'] = X_train_snappfood['comment'].apply(lambda x: [word for word in word_tokenize(x) if word.isalpha() and word not in stop_words])\n",
    "#X_test_snappfood['tokenized_comment'] = X_test_snappfood['comment'].apply(lambda x: [word for word in word_tokenize(x) if word.isalpha() and word not in stop_words])\n",
    "#X_validation_snappfood['tokenized_comment'] = X_validation_snappfood['comment'].apply(lambda x: [word for word in word_tokenize(x) if word.isalpha() and word not in stop_words])\n",
    "\n",
    "#model = Word2Vec(sentences=df_snappfood['tokenized_comment'], vector_size=500, window=5, min_count=1, workers=4)\n",
    "\n",
    "#def get_sentence_vector(sentence, model):\n",
    "#    vector = [model.wv[word] for word in sentence if word in model.wv]\n",
    "#    return sum(vector) / len(vector) if vector else None\n",
    "\n",
    "#X_train_snappfood['word2vec_feature'] = X_train_snappfood['tokenized_comment'].apply(lambda x: get_sentence_vector(x, model))\n",
    "#X_test_snappfood['word2vec_feature'] = X_test_snappfood['tokenized_comment'].apply(lambda x: get_sentence_vector(x, model))\n",
    "#X_validation_snappfood['word2vec_feature'] = X_validation_snappfood['tokenized_comment'].apply(lambda x: get_sentence_vector(x, model))\n",
    "\n",
    "#X_train_snappfood.head()"
   ]
  },
  {
   "cell_type": "markdown",
   "id": "2c378289",
   "metadata": {
    "papermill": {
     "duration": 0.026919,
     "end_time": "2024-01-27T01:32:49.111937",
     "exception": false,
     "start_time": "2024-01-27T01:32:49.085018",
     "status": "completed"
    },
    "tags": []
   },
   "source": [
    "# P3: Training and Initial Evaluation "
   ]
  },
  {
   "cell_type": "markdown",
   "id": "64ca0767",
   "metadata": {
    "papermill": {
     "duration": 0.027254,
     "end_time": "2024-01-27T01:32:49.166851",
     "exception": false,
     "start_time": "2024-01-27T01:32:49.139597",
     "status": "completed"
    },
    "tags": []
   },
   "source": [
    "Define an architecture for your neural network."
   ]
  },
  {
   "cell_type": "code",
   "execution_count": 24,
   "id": "916c4488",
   "metadata": {
    "execution": {
     "iopub.execute_input": "2024-01-27T01:32:49.223726Z",
     "iopub.status.busy": "2024-01-27T01:32:49.222905Z",
     "iopub.status.idle": "2024-01-27T01:33:02.616225Z",
     "shell.execute_reply": "2024-01-27T01:33:02.614965Z"
    },
    "papermill": {
     "duration": 13.424873,
     "end_time": "2024-01-27T01:33:02.619138",
     "exception": false,
     "start_time": "2024-01-27T01:32:49.194265",
     "status": "completed"
    },
    "tags": []
   },
   "outputs": [],
   "source": [
    "from keras.layers import Dense, Conv1D, MaxPooling1D, Flatten, LSTM, Dropout\n",
    "from keras.models import Sequential\n",
    "from keras.callbacks import EarlyStopping\n",
    "\n",
    "def create_model(input_shape):\n",
    "    model = Sequential()\n",
    "    model.add(Dense(32, activation='relu', input_shape=(input_shape, 1)))\n",
    "    model.add(Conv1D(filters=64, kernel_size=3, activation='relu', padding='same'))\n",
    "    model.add(MaxPooling1D(pool_size=2))\n",
    "    model.add(Dropout(0.2))\n",
    "    model.add(Conv1D(filters=128, kernel_size=3, activation='relu', padding='same'))\n",
    "    model.add(MaxPooling1D(pool_size=2))\n",
    "    model.add(Dropout(0.2))\n",
    "    model.add(LSTM(128, dropout=0.2, recurrent_dropout=0.2, return_sequences=True))\n",
    "    model.add(LSTM(64, dropout=0.2, recurrent_dropout=0.2))\n",
    "    model.add(Dense(32, activation='relu'))\n",
    "    model.add(Dense(1, activation='sigmoid'))\n",
    "    model.compile(optimizer='adam', loss='binary_crossentropy', metrics=['acc'])\n",
    "    return model\n"
   ]
  },
  {
   "cell_type": "code",
   "execution_count": 25,
   "id": "8cb44e07",
   "metadata": {
    "execution": {
     "iopub.execute_input": "2024-01-27T01:33:02.677823Z",
     "iopub.status.busy": "2024-01-27T01:33:02.676995Z",
     "iopub.status.idle": "2024-01-27T01:33:03.759892Z",
     "shell.execute_reply": "2024-01-27T01:33:03.758345Z"
    },
    "papermill": {
     "duration": 1.115485,
     "end_time": "2024-01-27T01:33:03.763625",
     "exception": false,
     "start_time": "2024-01-27T01:33:02.648140",
     "status": "completed"
    },
    "tags": []
   },
   "outputs": [],
   "source": [
    "w2v_vector_size = w2v.vector_size\n",
    "tfidf_vector_size = np.shape(tfidf.get_feature_names_out())[0]\n",
    "\n",
    "model_w2v = create_model(w2v_vector_size)\n",
    "\n",
    "model_tf = create_model(tfidf_vector_size)"
   ]
  },
  {
   "cell_type": "markdown",
   "id": "f92667b5",
   "metadata": {
    "papermill": {
     "duration": 0.035038,
     "end_time": "2024-01-27T01:33:03.831246",
     "exception": false,
     "start_time": "2024-01-27T01:33:03.796208",
     "status": "completed"
    },
    "tags": []
   },
   "source": [
    "Train the network on the Snappfood dataset, while monitoring its performance on the validation set. "
   ]
  },
  {
   "cell_type": "code",
   "execution_count": 26,
   "id": "b60f9f1c",
   "metadata": {
    "execution": {
     "iopub.execute_input": "2024-01-27T01:33:03.892948Z",
     "iopub.status.busy": "2024-01-27T01:33:03.892526Z",
     "iopub.status.idle": "2024-01-27T01:49:33.419869Z",
     "shell.execute_reply": "2024-01-27T01:49:33.418791Z"
    },
    "papermill": {
     "duration": 989.558985,
     "end_time": "2024-01-27T01:49:33.422899",
     "exception": false,
     "start_time": "2024-01-27T01:33:03.863914",
     "status": "completed"
    },
    "tags": []
   },
   "outputs": [
    {
     "name": "stdout",
     "output_type": "stream",
     "text": [
      "Epoch 1/20\n",
      "165/165 [==============================] - 57s 300ms/step - loss: 0.5679 - acc: 0.6835 - val_loss: 0.4468 - val_acc: 0.8011\n",
      "Epoch 2/20\n",
      "165/165 [==============================] - 48s 292ms/step - loss: 0.4568 - acc: 0.7903 - val_loss: 0.4293 - val_acc: 0.8128\n",
      "Epoch 3/20\n",
      "165/165 [==============================] - 48s 293ms/step - loss: 0.4430 - acc: 0.7974 - val_loss: 0.4157 - val_acc: 0.8154\n",
      "Epoch 4/20\n",
      "165/165 [==============================] - 48s 291ms/step - loss: 0.4312 - acc: 0.8039 - val_loss: 0.4056 - val_acc: 0.8219\n",
      "Epoch 5/20\n",
      "165/165 [==============================] - 48s 294ms/step - loss: 0.4259 - acc: 0.8074 - val_loss: 0.4006 - val_acc: 0.8226\n",
      "Epoch 6/20\n",
      "165/165 [==============================] - 48s 289ms/step - loss: 0.4168 - acc: 0.8133 - val_loss: 0.3972 - val_acc: 0.8261\n",
      "Epoch 7/20\n",
      "165/165 [==============================] - 48s 293ms/step - loss: 0.4127 - acc: 0.8147 - val_loss: 0.4011 - val_acc: 0.8264\n",
      "Epoch 8/20\n",
      "165/165 [==============================] - 48s 290ms/step - loss: 0.4121 - acc: 0.8140 - val_loss: 0.4030 - val_acc: 0.8245\n",
      "Epoch 9/20\n",
      "165/165 [==============================] - 49s 295ms/step - loss: 0.4109 - acc: 0.8174 - val_loss: 0.3943 - val_acc: 0.8235\n",
      "Epoch 10/20\n",
      "165/165 [==============================] - 49s 294ms/step - loss: 0.4059 - acc: 0.8174 - val_loss: 0.3910 - val_acc: 0.8286\n",
      "Epoch 11/20\n",
      "165/165 [==============================] - 49s 296ms/step - loss: 0.4026 - acc: 0.8203 - val_loss: 0.3888 - val_acc: 0.8276\n",
      "Epoch 12/20\n",
      "165/165 [==============================] - 49s 295ms/step - loss: 0.3989 - acc: 0.8225 - val_loss: 0.3892 - val_acc: 0.8296\n",
      "Epoch 13/20\n",
      "165/165 [==============================] - 49s 299ms/step - loss: 0.3983 - acc: 0.8214 - val_loss: 0.3841 - val_acc: 0.8315\n",
      "Epoch 14/20\n",
      "165/165 [==============================] - 49s 296ms/step - loss: 0.3985 - acc: 0.8219 - val_loss: 0.3837 - val_acc: 0.8322\n",
      "Epoch 15/20\n",
      "165/165 [==============================] - 49s 298ms/step - loss: 0.3939 - acc: 0.8266 - val_loss: 0.3857 - val_acc: 0.8324\n",
      "Epoch 16/20\n",
      "165/165 [==============================] - 48s 291ms/step - loss: 0.3965 - acc: 0.8230 - val_loss: 0.3872 - val_acc: 0.8308\n",
      "Epoch 17/20\n",
      "165/165 [==============================] - 49s 295ms/step - loss: 0.3935 - acc: 0.8253 - val_loss: 0.3840 - val_acc: 0.8306\n",
      "Epoch 18/20\n",
      "165/165 [==============================] - 48s 292ms/step - loss: 0.3905 - acc: 0.8262 - val_loss: 0.3928 - val_acc: 0.8271\n",
      "Epoch 19/20\n",
      "165/165 [==============================] - 49s 296ms/step - loss: 0.3915 - acc: 0.8236 - val_loss: 0.3852 - val_acc: 0.8304\n",
      "Epoch 20/20\n",
      "165/165 [==============================] - 49s 294ms/step - loss: 0.3879 - acc: 0.8255 - val_loss: 0.3830 - val_acc: 0.8335\n"
     ]
    }
   ],
   "source": [
    "history = model_w2v.fit(X_train_snappfood_w2v, y_train_snappfood, epochs=20, batch_size=256,validation_data=(X_validation_snappfood_w2v, y_validation_snappfood),callbacks=[EarlyStopping(monitor='val_loss',patience=7, min_delta=0.0001)])"
   ]
  },
  {
   "cell_type": "code",
   "execution_count": 27,
   "id": "7913fce1",
   "metadata": {
    "execution": {
     "iopub.execute_input": "2024-01-27T01:49:34.197707Z",
     "iopub.status.busy": "2024-01-27T01:49:34.197287Z",
     "iopub.status.idle": "2024-01-27T02:06:33.220195Z",
     "shell.execute_reply": "2024-01-27T02:06:33.219175Z"
    },
    "papermill": {
     "duration": 1019.367195,
     "end_time": "2024-01-27T02:06:33.222673",
     "exception": false,
     "start_time": "2024-01-27T01:49:33.855478",
     "status": "completed"
    },
    "tags": []
   },
   "outputs": [
    {
     "name": "stdout",
     "output_type": "stream",
     "text": [
      "Epoch 1/20\n",
      "165/165 [==============================] - 57s 300ms/step - loss: 0.6641 - acc: 0.5978 - val_loss: 0.6605 - val_acc: 0.6078\n",
      "Epoch 2/20\n",
      "165/165 [==============================] - 49s 297ms/step - loss: 0.6279 - acc: 0.6517 - val_loss: 0.6157 - val_acc: 0.6610\n",
      "Epoch 3/20\n",
      "165/165 [==============================] - 58s 351ms/step - loss: 0.6182 - acc: 0.6626 - val_loss: 0.6100 - val_acc: 0.6719\n",
      "Epoch 4/20\n",
      "165/165 [==============================] - 49s 298ms/step - loss: 0.6078 - acc: 0.6718 - val_loss: 0.5982 - val_acc: 0.6786\n",
      "Epoch 5/20\n",
      "165/165 [==============================] - 49s 299ms/step - loss: 0.5885 - acc: 0.6883 - val_loss: 0.5641 - val_acc: 0.7074\n",
      "Epoch 6/20\n",
      "165/165 [==============================] - 51s 309ms/step - loss: 0.5675 - acc: 0.7049 - val_loss: 0.5568 - val_acc: 0.7116\n",
      "Epoch 7/20\n",
      "165/165 [==============================] - 53s 319ms/step - loss: 0.5511 - acc: 0.7175 - val_loss: 0.5384 - val_acc: 0.7257\n",
      "Epoch 8/20\n",
      "165/165 [==============================] - 56s 340ms/step - loss: 0.5385 - acc: 0.7305 - val_loss: 0.5200 - val_acc: 0.7432\n",
      "Epoch 9/20\n",
      "165/165 [==============================] - 52s 312ms/step - loss: 0.5208 - acc: 0.7393 - val_loss: 0.5137 - val_acc: 0.7502\n",
      "Epoch 10/20\n",
      "165/165 [==============================] - 50s 301ms/step - loss: 0.5145 - acc: 0.7448 - val_loss: 0.5022 - val_acc: 0.7509\n",
      "Epoch 11/20\n",
      "165/165 [==============================] - 50s 306ms/step - loss: 0.5018 - acc: 0.7528 - val_loss: 0.4994 - val_acc: 0.7522\n",
      "Epoch 12/20\n",
      "165/165 [==============================] - 50s 301ms/step - loss: 0.4971 - acc: 0.7572 - val_loss: 0.4973 - val_acc: 0.7538\n",
      "Epoch 13/20\n",
      "165/165 [==============================] - 50s 303ms/step - loss: 0.4921 - acc: 0.7615 - val_loss: 0.4848 - val_acc: 0.7646\n",
      "Epoch 14/20\n",
      "165/165 [==============================] - 50s 303ms/step - loss: 0.4840 - acc: 0.7644 - val_loss: 0.4988 - val_acc: 0.7544\n",
      "Epoch 15/20\n",
      "165/165 [==============================] - 49s 300ms/step - loss: 0.4795 - acc: 0.7651 - val_loss: 0.4786 - val_acc: 0.7656\n",
      "Epoch 16/20\n",
      "165/165 [==============================] - 49s 299ms/step - loss: 0.4754 - acc: 0.7697 - val_loss: 0.4753 - val_acc: 0.7723\n",
      "Epoch 17/20\n",
      "165/165 [==============================] - 49s 300ms/step - loss: 0.4684 - acc: 0.7738 - val_loss: 0.4757 - val_acc: 0.7676\n",
      "Epoch 18/20\n",
      "165/165 [==============================] - 49s 296ms/step - loss: 0.4667 - acc: 0.7746 - val_loss: 0.4760 - val_acc: 0.7739\n",
      "Epoch 19/20\n",
      "165/165 [==============================] - 49s 299ms/step - loss: 0.4645 - acc: 0.7771 - val_loss: 0.4698 - val_acc: 0.7766\n",
      "Epoch 20/20\n",
      "165/165 [==============================] - 49s 298ms/step - loss: 0.4628 - acc: 0.7773 - val_loss: 0.4690 - val_acc: 0.7734\n"
     ]
    }
   ],
   "source": [
    "history = model_tf.fit(X_train_snappfood_tfidf, y_train_snappfood, epochs=20, batch_size=256,validation_data=(X_validation_snappfood_tfidf, y_validation_snappfood),callbacks=[EarlyStopping(monitor='val_loss',patience=7, min_delta=0.0001)])"
   ]
  },
  {
   "cell_type": "markdown",
   "id": "36136024",
   "metadata": {
    "papermill": {
     "duration": 0.660703,
     "end_time": "2024-01-27T02:06:34.564944",
     "exception": false,
     "start_time": "2024-01-27T02:06:33.904241",
     "status": "completed"
    },
    "tags": []
   },
   "source": [
    "Evaluate the performance of your network on the Snappfood testing set. "
   ]
  },
  {
   "cell_type": "code",
   "execution_count": 28,
   "id": "18616b33",
   "metadata": {
    "execution": {
     "iopub.execute_input": "2024-01-27T02:06:36.018632Z",
     "iopub.status.busy": "2024-01-27T02:06:36.018225Z",
     "iopub.status.idle": "2024-01-27T02:06:51.010696Z",
     "shell.execute_reply": "2024-01-27T02:06:51.009366Z"
    },
    "papermill": {
     "duration": 15.661349,
     "end_time": "2024-01-27T02:06:51.013348",
     "exception": false,
     "start_time": "2024-01-27T02:06:35.351999",
     "status": "completed"
    },
    "tags": []
   },
   "outputs": [
    {
     "name": "stdout",
     "output_type": "stream",
     "text": [
      "438/438 [==============================] - 7s 15ms/step\n",
      "438/438 [==============================] - 7s 15ms/step\n",
      "f1score for w2v:  0.835626858446857\n",
      "accuracy for w2v:  0.8302142857142857\n",
      "f1score for tfidf:  0.7927228947896462\n",
      "accuracy for tfidf:  0.7786428571428572\n"
     ]
    }
   ],
   "source": [
    "from sklearn.metrics import accuracy_score, f1_score\n",
    "\n",
    "pred_w2v = np.round(model_w2v.predict(X_test_snappfood_w2v))\n",
    "pred_tfidf = np.round(model_tf.predict(X_test_snappfood_tfidf))\n",
    "\n",
    "print(\"f1score for w2v: \",f1_score(y_test_snappfood, pred_w2v))\n",
    "print(\"accuracy for w2v: \",accuracy_score(y_test_snappfood, pred_w2v))\n",
    "\n",
    "print(\"f1score for tfidf: \",f1_score(y_test_snappfood, pred_tfidf))\n",
    "print(\"accuracy for tfidf: \",accuracy_score(y_test_snappfood, pred_tfidf))"
   ]
  },
  {
   "cell_type": "markdown",
   "id": "5d47c9b7",
   "metadata": {
    "papermill": {
     "duration": 0.675795,
     "end_time": "2024-01-27T02:06:52.366499",
     "exception": false,
     "start_time": "2024-01-27T02:06:51.690704",
     "status": "completed"
    },
    "tags": []
   },
   "source": [
    "Save the weights of the neural network and its architecture seperately in the notebook's output folder (`/kaggle/working/`)."
   ]
  },
  {
   "cell_type": "code",
   "execution_count": 29,
   "id": "fa327495",
   "metadata": {
    "execution": {
     "iopub.execute_input": "2024-01-27T02:06:53.816393Z",
     "iopub.status.busy": "2024-01-27T02:06:53.815465Z",
     "iopub.status.idle": "2024-01-27T02:06:53.894605Z",
     "shell.execute_reply": "2024-01-27T02:06:53.893443Z"
    },
    "papermill": {
     "duration": 0.778878,
     "end_time": "2024-01-27T02:06:53.897412",
     "exception": false,
     "start_time": "2024-01-27T02:06:53.118534",
     "status": "completed"
    },
    "tags": []
   },
   "outputs": [],
   "source": [
    "import tensorflow as tf\n",
    "\n",
    "with open('/kaggle/working/w2v.json', 'w') as json_file:\n",
    "    json_file.write(model_w2v.to_json())\n",
    "\n",
    "model_w2v.save_weights('/kaggle/working/w2v_weights.h5')\n",
    "\n",
    "\n",
    "\n",
    "with open('/kaggle/working/tfidf.json', 'w') as json_file:\n",
    "    json_file.write(model_tf.to_json())\n",
    "\n",
    "model_tf.save_weights('/kaggle/working/tfidf_weights.h5')"
   ]
  },
  {
   "cell_type": "markdown",
   "id": "33e493bc",
   "metadata": {
    "papermill": {
     "duration": 0.675856,
     "end_time": "2024-01-27T02:06:55.252034",
     "exception": false,
     "start_time": "2024-01-27T02:06:54.576178",
     "status": "completed"
    },
    "tags": []
   },
   "source": [
    "# P4: Fine-tuning and Evaluation "
   ]
  },
  {
   "cell_type": "markdown",
   "id": "1e51773f",
   "metadata": {
    "papermill": {
     "duration": 0.674954,
     "end_time": "2024-01-27T02:06:56.676712",
     "exception": false,
     "start_time": "2024-01-27T02:06:56.001758",
     "status": "completed"
    },
    "tags": []
   },
   "source": [
    "In this part, we will fine-tune the previously trained network on the comments extracted from Digikala."
   ]
  },
  {
   "cell_type": "markdown",
   "id": "65f59c98",
   "metadata": {
    "papermill": {
     "duration": 0.672578,
     "end_time": "2024-01-27T02:06:58.025784",
     "exception": false,
     "start_time": "2024-01-27T02:06:57.353206",
     "status": "completed"
    },
    "tags": []
   },
   "source": [
    "Load the neural network along with its weights"
   ]
  },
  {
   "cell_type": "code",
   "execution_count": 30,
   "id": "95daf8da",
   "metadata": {
    "execution": {
     "iopub.execute_input": "2024-01-27T02:06:59.464409Z",
     "iopub.status.busy": "2024-01-27T02:06:59.462777Z",
     "iopub.status.idle": "2024-01-27T02:07:00.499851Z",
     "shell.execute_reply": "2024-01-27T02:07:00.498648Z"
    },
    "papermill": {
     "duration": 1.723295,
     "end_time": "2024-01-27T02:07:00.502948",
     "exception": false,
     "start_time": "2024-01-27T02:06:58.779653",
     "status": "completed"
    },
    "tags": []
   },
   "outputs": [],
   "source": [
    "from tensorflow.keras.models import model_from_json\n",
    "\n",
    "\n",
    "with open('/kaggle/working/w2v.json', 'r') as json_file:\n",
    "    model_w2v_json = json_file.read()\n",
    "    \n",
    "model_w2v = model_from_json(model_w2v_json)\n",
    "\n",
    "model_w2v.load_weights('/kaggle/working/w2v_weights.h5')\n",
    "\n",
    "\n",
    "\n",
    "with open('/kaggle/working/tfidf.json', 'r') as json_file:\n",
    "    model_tfidf_json = json_file.read()\n",
    "    \n",
    "model_tfidf = model_from_json(model_tfidf_json)\n",
    "\n",
    "model_tfidf.load_weights('/kaggle/working/tfidf_weights.h5')"
   ]
  },
  {
   "cell_type": "markdown",
   "id": "6c4fc4f0",
   "metadata": {
    "papermill": {
     "duration": 0.753296,
     "end_time": "2024-01-27T02:07:01.931911",
     "exception": false,
     "start_time": "2024-01-27T02:07:01.178615",
     "status": "completed"
    },
    "tags": []
   },
   "source": [
    "Change the architecture of the network (the last layer) to make it appropriate for classifying the sentiment of a comment in one of the previously mentioned three classes: positive, negative, or neutral."
   ]
  },
  {
   "cell_type": "code",
   "execution_count": 31,
   "id": "17215377",
   "metadata": {
    "execution": {
     "iopub.execute_input": "2024-01-27T02:07:03.284985Z",
     "iopub.status.busy": "2024-01-27T02:07:03.284245Z",
     "iopub.status.idle": "2024-01-27T02:07:03.341394Z",
     "shell.execute_reply": "2024-01-27T02:07:03.340448Z"
    },
    "papermill": {
     "duration": 0.735391,
     "end_time": "2024-01-27T02:07:03.343874",
     "exception": false,
     "start_time": "2024-01-27T02:07:02.608483",
     "status": "completed"
    },
    "tags": []
   },
   "outputs": [],
   "source": [
    "from tensorflow.keras.models import Model\n",
    "from tensorflow.keras.layers import Input\n",
    "\n",
    "model_w2v.layers.pop()\n",
    "\n",
    "sentiment = Dense(1, activation='softmax')(model_w2v.layers[-1].output)\n",
    "model_w2v = Model(inputs=model_w2v.input, outputs=sentiment)\n",
    "model_w2v.compile(optimizer='adam', loss='categorical_crossentropy', metrics=['accuracy'])\n",
    "\n",
    "model_tfidf.layers.pop()\n",
    "\n",
    "sentiment = Dense(1, activation='softmax')(model_tfidf.layers[-1].output)\n",
    "model_tfidf = Model(inputs=model_tfidf.input, outputs=sentiment)\n",
    "model_tfidf.compile(optimizer='adam', loss='categorical_crossentropy', metrics=['accuracy'])"
   ]
  },
  {
   "cell_type": "markdown",
   "id": "bb230175",
   "metadata": {
    "papermill": {
     "duration": 0.672802,
     "end_time": "2024-01-27T02:07:04.788592",
     "exception": false,
     "start_time": "2024-01-27T02:07:04.115790",
     "status": "completed"
    },
    "tags": []
   },
   "source": [
    "Extract features from the Digikala dataset.<br>\n",
    "Note: Pay attention to the fact that your features are the same as the ones you extracted from the Snappfood dataset. You just need to use the same method for the new dataset. For instance, if you consider the `CountVectorizer` as your feature extractor, the set of the words for which you'll count the frequency will not change! "
   ]
  },
  {
   "cell_type": "code",
   "execution_count": 32,
   "id": "25bcf2cf",
   "metadata": {
    "execution": {
     "iopub.execute_input": "2024-01-27T02:07:06.135654Z",
     "iopub.status.busy": "2024-01-27T02:07:06.134857Z",
     "iopub.status.idle": "2024-01-27T02:07:07.058489Z",
     "shell.execute_reply": "2024-01-27T02:07:07.057608Z"
    },
    "papermill": {
     "duration": 1.597977,
     "end_time": "2024-01-27T02:07:07.061238",
     "exception": false,
     "start_time": "2024-01-27T02:07:05.463261",
     "status": "completed"
    },
    "tags": []
   },
   "outputs": [],
   "source": [
    "X_train_digikala_w2v = np.array([vectorize(text) for text in X_train_digikala])\n",
    "X_test_digikala_w2v = np.array([vectorize(text) for text in X_test_digikala])\n",
    "X_validation_digikala_w2v = np.array([vectorize(text) for text in X_validation_digikala])\n",
    "\n",
    "X_train_digikala_tfidf = tfidf.transform(X_train_digikala).toarray()\n",
    "X_test_digikala_tfidf = tfidf.transform(X_test_digikala).toarray()\n",
    "X_validation_digikala_tfidf = tfidf.transform(X_validation_digikala).toarray()"
   ]
  },
  {
   "cell_type": "markdown",
   "id": "9d38112c",
   "metadata": {
    "papermill": {
     "duration": 0.681458,
     "end_time": "2024-01-27T02:07:08.501844",
     "exception": false,
     "start_time": "2024-01-27T02:07:07.820386",
     "status": "completed"
    },
    "tags": []
   },
   "source": [
    "Fine-tune the network on the training set associated with the Digikala dataset, while monitoring its performance on the corresponding validation set.<br>\n",
    "Note: The process of fine-tuning should follow one of these methods:\n",
    "- Method 1: Fix the weights for all layers expect the last one.\n",
    "- Method 2: Use a really small learning rate for all layers except the last one.\n",
    "\n"
   ]
  },
  {
   "cell_type": "code",
   "execution_count": 33,
   "id": "83e8fd4d",
   "metadata": {
    "execution": {
     "iopub.execute_input": "2024-01-27T02:07:09.852823Z",
     "iopub.status.busy": "2024-01-27T02:07:09.851720Z",
     "iopub.status.idle": "2024-01-27T02:07:09.859388Z",
     "shell.execute_reply": "2024-01-27T02:07:09.858496Z"
    },
    "papermill": {
     "duration": 0.689471,
     "end_time": "2024-01-27T02:07:09.861826",
     "exception": false,
     "start_time": "2024-01-27T02:07:09.172355",
     "status": "completed"
    },
    "tags": []
   },
   "outputs": [],
   "source": [
    "X_train_digikala_w2v = X_train_digikala_w2v.astype('float32')\n",
    "y_train_digikala = y_train_digikala.astype('float32')\n",
    "X_validation_digikala_w2v = X_validation_digikala_w2v.astype('float32')\n",
    "y_validation_digikala = y_validation_digikala.astype('float32')"
   ]
  },
  {
   "cell_type": "code",
   "execution_count": 34,
   "id": "40724dbc",
   "metadata": {
    "execution": {
     "iopub.execute_input": "2024-01-27T02:07:11.286062Z",
     "iopub.status.busy": "2024-01-27T02:07:11.285255Z",
     "iopub.status.idle": "2024-01-27T02:08:29.453893Z",
     "shell.execute_reply": "2024-01-27T02:08:29.452706Z"
    },
    "papermill": {
     "duration": 78.925505,
     "end_time": "2024-01-27T02:08:29.456820",
     "exception": false,
     "start_time": "2024-01-27T02:07:10.531315",
     "status": "completed"
    },
    "tags": []
   },
   "outputs": [
    {
     "name": "stdout",
     "output_type": "stream",
     "text": [
      "Epoch 1/20\n"
     ]
    },
    {
     "name": "stderr",
     "output_type": "stream",
     "text": [
      "/opt/conda/lib/python3.10/site-packages/tensorflow/python/util/dispatch.py:1176: SyntaxWarning: In loss categorical_crossentropy, expected y_pred.shape to be (batch_size, num_classes) with num_classes > 1. Received: y_pred.shape=(None, 1). Consider using 'binary_crossentropy' if you only have 2 classes.\n",
      "  return dispatch_target(*args, **kwargs)\n"
     ]
    },
    {
     "name": "stdout",
     "output_type": "stream",
     "text": [
      "123/123 [==============================] - 17s 76ms/step - loss: 0.0000e+00 - accuracy: 0.5838 - val_loss: 0.0000e+00 - val_accuracy: 0.5598\n",
      "Epoch 2/20\n",
      "123/123 [==============================] - 9s 70ms/step - loss: 0.0000e+00 - accuracy: 0.5838 - val_loss: 0.0000e+00 - val_accuracy: 0.5598\n",
      "Epoch 3/20\n",
      "123/123 [==============================] - 9s 75ms/step - loss: 0.0000e+00 - accuracy: 0.5838 - val_loss: 0.0000e+00 - val_accuracy: 0.5598\n",
      "Epoch 4/20\n",
      "123/123 [==============================] - 9s 69ms/step - loss: 0.0000e+00 - accuracy: 0.5838 - val_loss: 0.0000e+00 - val_accuracy: 0.5598\n",
      "Epoch 5/20\n",
      "123/123 [==============================] - 9s 70ms/step - loss: 0.0000e+00 - accuracy: 0.5838 - val_loss: 0.0000e+00 - val_accuracy: 0.5598\n",
      "Epoch 6/20\n",
      "123/123 [==============================] - 9s 73ms/step - loss: 0.0000e+00 - accuracy: 0.5838 - val_loss: 0.0000e+00 - val_accuracy: 0.5598\n",
      "Epoch 7/20\n",
      "123/123 [==============================] - 9s 72ms/step - loss: 0.0000e+00 - accuracy: 0.5838 - val_loss: 0.0000e+00 - val_accuracy: 0.5598\n",
      "Epoch 8/20\n",
      "123/123 [==============================] - 9s 70ms/step - loss: 0.0000e+00 - accuracy: 0.5838 - val_loss: 0.0000e+00 - val_accuracy: 0.5598\n"
     ]
    }
   ],
   "source": [
    "x = len(model_w2v.layers)\n",
    "for layer in model_w2v.layers[:x]:\n",
    "    layer.trainable = False\n",
    "    \n",
    "model_w2v.layers[x-1].trainable = True\n",
    "    \n",
    "history_digikala = model_w2v.fit(X_train_digikala_w2v, y_train_digikala, epochs=20, batch_size=16,validation_data=(X_validation_digikala_w2v, y_validation_digikala),callbacks=[EarlyStopping(monitor='val_loss',patience=7, min_delta=0.0001)])"
   ]
  },
  {
   "cell_type": "code",
   "execution_count": 35,
   "id": "5f7dd4b5",
   "metadata": {
    "execution": {
     "iopub.execute_input": "2024-01-27T02:08:31.087428Z",
     "iopub.status.busy": "2024-01-27T02:08:31.086353Z",
     "iopub.status.idle": "2024-01-27T02:09:59.508829Z",
     "shell.execute_reply": "2024-01-27T02:09:59.507910Z"
    },
    "papermill": {
     "duration": 89.199924,
     "end_time": "2024-01-27T02:09:59.511772",
     "exception": false,
     "start_time": "2024-01-27T02:08:30.311848",
     "status": "completed"
    },
    "tags": []
   },
   "outputs": [
    {
     "name": "stdout",
     "output_type": "stream",
     "text": [
      "Epoch 1/20\n",
      "123/123 [==============================] - 17s 75ms/step - loss: 0.0000e+00 - accuracy: 0.5838 - val_loss: 0.0000e+00 - val_accuracy: 0.5598\n",
      "Epoch 2/20\n",
      "123/123 [==============================] - 9s 72ms/step - loss: 0.0000e+00 - accuracy: 0.5838 - val_loss: 0.0000e+00 - val_accuracy: 0.5598\n",
      "Epoch 3/20\n",
      "123/123 [==============================] - 9s 72ms/step - loss: 0.0000e+00 - accuracy: 0.5838 - val_loss: 0.0000e+00 - val_accuracy: 0.5598\n",
      "Epoch 4/20\n",
      "123/123 [==============================] - 9s 70ms/step - loss: 0.0000e+00 - accuracy: 0.5838 - val_loss: 0.0000e+00 - val_accuracy: 0.5598\n",
      "Epoch 5/20\n",
      "123/123 [==============================] - 8s 69ms/step - loss: 0.0000e+00 - accuracy: 0.5838 - val_loss: 0.0000e+00 - val_accuracy: 0.5598\n",
      "Epoch 6/20\n",
      "123/123 [==============================] - 9s 73ms/step - loss: 0.0000e+00 - accuracy: 0.5838 - val_loss: 0.0000e+00 - val_accuracy: 0.5598\n",
      "Epoch 7/20\n",
      "123/123 [==============================] - 9s 75ms/step - loss: 0.0000e+00 - accuracy: 0.5838 - val_loss: 0.0000e+00 - val_accuracy: 0.5598\n",
      "Epoch 8/20\n",
      "123/123 [==============================] - 9s 70ms/step - loss: 0.0000e+00 - accuracy: 0.5838 - val_loss: 0.0000e+00 - val_accuracy: 0.5598\n"
     ]
    }
   ],
   "source": [
    "x = len(model_tfidf.layers)\n",
    "model_tfidf.trainable = True\n",
    "for layer in model_tf.layers[:len(model_tfidf.layers)]:\n",
    "    layer.trainable = False\n",
    "    \n",
    "model_tfidf.layers[x-1].trainable = True\n",
    "    \n",
    "history_digikala = model_tfidf.fit(X_train_digikala_tfidf, y_train_digikala, epochs=20, batch_size=16,validation_data=(X_validation_digikala_tfidf, y_validation_digikala),callbacks=[EarlyStopping(monitor='val_loss',patience=7, min_delta=0.0001)])"
   ]
  },
  {
   "cell_type": "markdown",
   "id": "e88d5827",
   "metadata": {
    "papermill": {
     "duration": 0.948281,
     "end_time": "2024-01-27T02:10:01.331506",
     "exception": false,
     "start_time": "2024-01-27T02:10:00.383225",
     "status": "completed"
    },
    "tags": []
   },
   "source": [
    "Evaluate the performance of the neural network on the testing set you have extracted from the Digikala dataset."
   ]
  },
  {
   "cell_type": "code",
   "execution_count": 36,
   "id": "fb918e8e",
   "metadata": {
    "execution": {
     "iopub.execute_input": "2024-01-27T02:10:03.070994Z",
     "iopub.status.busy": "2024-01-27T02:10:03.069860Z",
     "iopub.status.idle": "2024-01-27T02:10:12.900276Z",
     "shell.execute_reply": "2024-01-27T02:10:12.899410Z"
    },
    "papermill": {
     "duration": 10.700911,
     "end_time": "2024-01-27T02:10:12.902855",
     "exception": false,
     "start_time": "2024-01-27T02:10:02.201944",
     "status": "completed"
    },
    "tags": []
   },
   "outputs": [
    {
     "name": "stdout",
     "output_type": "stream",
     "text": [
      "21/21 [==============================] - 1s 15ms/step\n",
      "21/21 [==============================] - 1s 15ms/step\n",
      "f1score of w2v :  0.7258536585365853\n",
      "accuracy of w2v :  0.5696784073506891\n",
      "f1score of w2v :  0.7258536585365853\n",
      "accuracy of w2v :  0.5696784073506891\n"
     ]
    }
   ],
   "source": [
    "pred_w2v_digikala = np.round(model_w2v.predict(X_test_digikala_w2v))\n",
    "pred_tfidf_digikala = np.round(model_tfidf.predict(X_test_digikala_tfidf))\n",
    "\n",
    "print(\"f1score of w2v : \", f1_score(y_test_digikala, pred_w2v_digikala))\n",
    "print(\"accuracy of w2v : \", accuracy_score(y_test_digikala, pred_w2v_digikala))\n",
    "\n",
    "print(\"f1score of w2v : \", f1_score(y_test_digikala, pred_tfidf_digikala))\n",
    "print(\"accuracy of w2v : \", accuracy_score(y_test_digikala, pred_tfidf_digikala))\n"
   ]
  }
 ],
 "metadata": {
  "kaggle": {
   "accelerator": "none",
   "dataSources": [
    {
     "datasetId": 435023,
     "sourceId": 826102,
     "sourceType": "datasetVersion"
    },
    {
     "datasetId": 2311034,
     "sourceId": 3889482,
     "sourceType": "datasetVersion"
    }
   ],
   "dockerImageVersionId": 30626,
   "isGpuEnabled": false,
   "isInternetEnabled": true,
   "language": "python",
   "sourceType": "notebook"
  },
  "kernelspec": {
   "display_name": "Python 3",
   "language": "python",
   "name": "python3"
  },
  "language_info": {
   "codemirror_mode": {
    "name": "ipython",
    "version": 3
   },
   "file_extension": ".py",
   "mimetype": "text/x-python",
   "name": "python",
   "nbconvert_exporter": "python",
   "pygments_lexer": "ipython3",
   "version": "3.10.12"
  },
  "papermill": {
   "default_parameters": {},
   "duration": 2472.766718,
   "end_time": "2024-01-27T02:10:17.104618",
   "environment_variables": {},
   "exception": null,
   "input_path": "__notebook__.ipynb",
   "output_path": "__notebook__.ipynb",
   "parameters": {},
   "start_time": "2024-01-27T01:29:04.337900",
   "version": "2.4.0"
  }
 },
 "nbformat": 4,
 "nbformat_minor": 5
}
